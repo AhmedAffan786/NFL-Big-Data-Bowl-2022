{
 "cells": [
  {
   "cell_type": "markdown",
   "id": "19c4cab2",
   "metadata": {
    "papermill": {
     "duration": 0.024302,
     "end_time": "2021-09-24T12:02:48.229327",
     "exception": false,
     "start_time": "2021-09-24T12:02:48.205025",
     "status": "completed"
    },
    "tags": []
   },
   "source": [
    "<iframe src=\"https://www.kaggle.com/embed/hijest/nfl-big-data-bowl-2022-starters-eda?cellIds=1&kernelSessionId=75487025\" height=\"300\" style=\"margin: 0 auto; width: 100%; max-width: 950px;\" frameborder=\"0\" scrolling=\"auto\" title=\"NFL Big Data Bowl 2022 - Starters EDA 🏈🏈\"></iframe>"
   ]
  },
  {
   "cell_type": "markdown",
   "id": "c51e3685",
   "metadata": {
    "papermill": {
     "duration": 0.023083,
     "end_time": "2021-09-24T12:02:48.275821",
     "exception": false,
     "start_time": "2021-09-24T12:02:48.252738",
     "status": "completed"
    },
    "tags": []
   },
   "source": [
    "## NFL Big Data Bowl 2022 DATA ANALYSIS"
   ]
  },
  {
   "cell_type": "code",
   "execution_count": 1,
   "id": "340ad711",
   "metadata": {
    "execution": {
     "iopub.execute_input": "2021-09-24T12:02:48.334088Z",
     "iopub.status.busy": "2021-09-24T12:02:48.333440Z",
     "iopub.status.idle": "2021-09-24T12:02:50.636471Z",
     "shell.execute_reply": "2021-09-24T12:02:50.635315Z",
     "shell.execute_reply.started": "2021-09-24T11:26:50.091724Z"
    },
    "papermill": {
     "duration": 2.337925,
     "end_time": "2021-09-24T12:02:50.636646",
     "exception": false,
     "start_time": "2021-09-24T12:02:48.298721",
     "status": "completed"
    },
    "tags": []
   },
   "outputs": [],
   "source": [
    "\n",
    "import numpy as np # linear algebra\n",
    "import pandas as pd # data processing, CSV file I/O (e.g. pd.read_csv)\n",
    "\n",
    "import matplotlib.pyplot as plt\n",
    "import seaborn as sns\n",
    "import plotly.express as px\n",
    "from plotly.subplots import make_subplots\n",
    "import plotly.graph_objs as go\n",
    "\n",
    "pd.set_option('display.max_columns', None)\n"
   ]
  },
  {
   "cell_type": "markdown",
   "id": "8ff66381",
   "metadata": {
    "papermill": {
     "duration": 0.022724,
     "end_time": "2021-09-24T12:02:50.682567",
     "exception": false,
     "start_time": "2021-09-24T12:02:50.659843",
     "status": "completed"
    },
    "tags": []
   },
   "source": [
    "## Players Data"
   ]
  },
  {
   "cell_type": "code",
   "execution_count": 2,
   "id": "202de9b5",
   "metadata": {
    "execution": {
     "iopub.execute_input": "2021-09-24T12:02:50.734355Z",
     "iopub.status.busy": "2021-09-24T12:02:50.732910Z",
     "iopub.status.idle": "2021-09-24T12:02:50.758187Z",
     "shell.execute_reply": "2021-09-24T12:02:50.758645Z",
     "shell.execute_reply.started": "2021-09-24T11:26:50.100467Z"
    },
    "papermill": {
     "duration": 0.053294,
     "end_time": "2021-09-24T12:02:50.758847",
     "exception": false,
     "start_time": "2021-09-24T12:02:50.705553",
     "status": "completed"
    },
    "tags": []
   },
   "outputs": [],
   "source": [
    "# Loading the dataset\n",
    "players = pd.read_csv('../input/nfl-big-data-bowl-2022/players.csv')"
   ]
  },
  {
   "cell_type": "markdown",
   "id": "1aa674a2",
   "metadata": {
    "papermill": {
     "duration": 0.022905,
     "end_time": "2021-09-24T12:02:50.804657",
     "exception": false,
     "start_time": "2021-09-24T12:02:50.781752",
     "status": "completed"
    },
    "tags": []
   },
   "source": [
    "#### Players csv contain there players data. The key variable is NLF-id\n",
    "\n",
    "* **nflid**       :  NLF-ID identififer numeric (Int 64) \n",
    "* **height**      :  Height of that player (Object)\n",
    "* **weight**      :  Height of that player (Int 64)\n",
    "* **birhtdate**   :  Data of Birth of that player (Object)\n",
    "* **collegeName** :  College name of the player (Object)\n",
    "* **Position**    :  Playing position of the player (Object)\n",
    "* **displayName** :  Display name of the player (Object)\n"
   ]
  },
  {
   "cell_type": "code",
   "execution_count": 3,
   "id": "9deb5274",
   "metadata": {
    "execution": {
     "iopub.execute_input": "2021-09-24T12:02:50.855513Z",
     "iopub.status.busy": "2021-09-24T12:02:50.854696Z",
     "iopub.status.idle": "2021-09-24T12:02:50.886054Z",
     "shell.execute_reply": "2021-09-24T12:02:50.886534Z",
     "shell.execute_reply.started": "2021-09-24T11:26:50.124778Z"
    },
    "papermill": {
     "duration": 0.058855,
     "end_time": "2021-09-24T12:02:50.886697",
     "exception": false,
     "start_time": "2021-09-24T12:02:50.827842",
     "status": "completed"
    },
    "tags": []
   },
   "outputs": [
    {
     "name": "stdout",
     "output_type": "stream",
     "text": [
      "nflId           0\n",
      "height          0\n",
      "weight          0\n",
      "birthDate      17\n",
      "collegeName     8\n",
      "Position        0\n",
      "displayName     0\n",
      "dtype: int64\n"
     ]
    },
    {
     "data": {
      "text/html": [
       "<div>\n",
       "<style scoped>\n",
       "    .dataframe tbody tr th:only-of-type {\n",
       "        vertical-align: middle;\n",
       "    }\n",
       "\n",
       "    .dataframe tbody tr th {\n",
       "        vertical-align: top;\n",
       "    }\n",
       "\n",
       "    .dataframe thead th {\n",
       "        text-align: right;\n",
       "    }\n",
       "</style>\n",
       "<table border=\"1\" class=\"dataframe\">\n",
       "  <thead>\n",
       "    <tr style=\"text-align: right;\">\n",
       "      <th></th>\n",
       "      <th>nflId</th>\n",
       "      <th>height</th>\n",
       "      <th>weight</th>\n",
       "      <th>birthDate</th>\n",
       "      <th>collegeName</th>\n",
       "      <th>Position</th>\n",
       "      <th>displayName</th>\n",
       "    </tr>\n",
       "  </thead>\n",
       "  <tbody>\n",
       "    <tr>\n",
       "      <th>0</th>\n",
       "      <td>42901</td>\n",
       "      <td>6-1</td>\n",
       "      <td>208</td>\n",
       "      <td>1992-07-25</td>\n",
       "      <td>James Madison</td>\n",
       "      <td>SS</td>\n",
       "      <td>Dean Marlowe</td>\n",
       "    </tr>\n",
       "    <tr>\n",
       "      <th>1</th>\n",
       "      <td>43501</td>\n",
       "      <td>6-0</td>\n",
       "      <td>220</td>\n",
       "      <td>1994-08-11</td>\n",
       "      <td>Central Michigan</td>\n",
       "      <td>FS</td>\n",
       "      <td>Kavon Frazier</td>\n",
       "    </tr>\n",
       "    <tr>\n",
       "      <th>2</th>\n",
       "      <td>43534</td>\n",
       "      <td>6-0</td>\n",
       "      <td>205</td>\n",
       "      <td>1993-06-02</td>\n",
       "      <td>Illinois</td>\n",
       "      <td>SS</td>\n",
       "      <td>Clayton Fejedelem</td>\n",
       "    </tr>\n",
       "    <tr>\n",
       "      <th>3</th>\n",
       "      <td>43535</td>\n",
       "      <td>6-1</td>\n",
       "      <td>235</td>\n",
       "      <td>1992-12-22</td>\n",
       "      <td>Temple</td>\n",
       "      <td>MLB</td>\n",
       "      <td>Tyler Matakevich</td>\n",
       "    </tr>\n",
       "    <tr>\n",
       "      <th>4</th>\n",
       "      <td>44174</td>\n",
       "      <td>6-1</td>\n",
       "      <td>236</td>\n",
       "      <td>1993-02-22</td>\n",
       "      <td>Texas Tech</td>\n",
       "      <td>ILB</td>\n",
       "      <td>Sam Eguavoen</td>\n",
       "    </tr>\n",
       "    <tr>\n",
       "      <th>...</th>\n",
       "      <td>...</td>\n",
       "      <td>...</td>\n",
       "      <td>...</td>\n",
       "      <td>...</td>\n",
       "      <td>...</td>\n",
       "      <td>...</td>\n",
       "      <td>...</td>\n",
       "    </tr>\n",
       "    <tr>\n",
       "      <th>2727</th>\n",
       "      <td>33216</td>\n",
       "      <td>6-3</td>\n",
       "      <td>320</td>\n",
       "      <td>06/16/1986</td>\n",
       "      <td>Central Florida</td>\n",
       "      <td>G</td>\n",
       "      <td>Josh Sitton</td>\n",
       "    </tr>\n",
       "    <tr>\n",
       "      <th>2728</th>\n",
       "      <td>33184</td>\n",
       "      <td>6-3</td>\n",
       "      <td>265</td>\n",
       "      <td>05/02/1985</td>\n",
       "      <td>Winston-Salem State</td>\n",
       "      <td>DE</td>\n",
       "      <td>William Hayes</td>\n",
       "    </tr>\n",
       "    <tr>\n",
       "      <th>2729</th>\n",
       "      <td>45651</td>\n",
       "      <td>5-9</td>\n",
       "      <td>198</td>\n",
       "      <td>06/16/1993</td>\n",
       "      <td>Iowa</td>\n",
       "      <td>WR</td>\n",
       "      <td>Riley McCarron</td>\n",
       "    </tr>\n",
       "    <tr>\n",
       "      <th>2730</th>\n",
       "      <td>41284</td>\n",
       "      <td>73</td>\n",
       "      <td>230</td>\n",
       "      <td>1992-10-20</td>\n",
       "      <td>LSU</td>\n",
       "      <td>RB</td>\n",
       "      <td>Jeremy Hill</td>\n",
       "    </tr>\n",
       "    <tr>\n",
       "      <th>2731</th>\n",
       "      <td>42849</td>\n",
       "      <td>5-10</td>\n",
       "      <td>205</td>\n",
       "      <td>12/14/1992</td>\n",
       "      <td>Texas Tech</td>\n",
       "      <td>WR</td>\n",
       "      <td>Bradley Marquez</td>\n",
       "    </tr>\n",
       "  </tbody>\n",
       "</table>\n",
       "<p>2732 rows × 7 columns</p>\n",
       "</div>"
      ],
      "text/plain": [
       "      nflId height  weight   birthDate          collegeName Position  \\\n",
       "0     42901    6-1     208  1992-07-25        James Madison       SS   \n",
       "1     43501    6-0     220  1994-08-11     Central Michigan       FS   \n",
       "2     43534    6-0     205  1993-06-02             Illinois       SS   \n",
       "3     43535    6-1     235  1992-12-22               Temple      MLB   \n",
       "4     44174    6-1     236  1993-02-22           Texas Tech      ILB   \n",
       "...     ...    ...     ...         ...                  ...      ...   \n",
       "2727  33216    6-3     320  06/16/1986      Central Florida        G   \n",
       "2728  33184    6-3     265  05/02/1985  Winston-Salem State       DE   \n",
       "2729  45651    5-9     198  06/16/1993                 Iowa       WR   \n",
       "2730  41284     73     230  1992-10-20                  LSU       RB   \n",
       "2731  42849   5-10     205  12/14/1992           Texas Tech       WR   \n",
       "\n",
       "            displayName  \n",
       "0          Dean Marlowe  \n",
       "1         Kavon Frazier  \n",
       "2     Clayton Fejedelem  \n",
       "3      Tyler Matakevich  \n",
       "4          Sam Eguavoen  \n",
       "...                 ...  \n",
       "2727        Josh Sitton  \n",
       "2728      William Hayes  \n",
       "2729     Riley McCarron  \n",
       "2730        Jeremy Hill  \n",
       "2731    Bradley Marquez  \n",
       "\n",
       "[2732 rows x 7 columns]"
      ]
     },
     "execution_count": 3,
     "metadata": {},
     "output_type": "execute_result"
    }
   ],
   "source": [
    "\n",
    "print(players.isnull().sum())\n",
    "players\n",
    "\n",
    "# We have null values in Birth data so lets check how we handle missing values"
   ]
  },
  {
   "cell_type": "markdown",
   "id": "8adbd243",
   "metadata": {
    "papermill": {
     "duration": 0.023601,
     "end_time": "2021-09-24T12:02:50.934552",
     "exception": false,
     "start_time": "2021-09-24T12:02:50.910951",
     "status": "completed"
    },
    "tags": []
   },
   "source": [
    "### Positions bar plot"
   ]
  },
  {
   "cell_type": "code",
   "execution_count": 4,
   "id": "d92bbcf0",
   "metadata": {
    "execution": {
     "iopub.execute_input": "2021-09-24T12:02:50.985940Z",
     "iopub.status.busy": "2021-09-24T12:02:50.985274Z",
     "iopub.status.idle": "2021-09-24T12:02:51.352278Z",
     "shell.execute_reply": "2021-09-24T12:02:51.351711Z",
     "shell.execute_reply.started": "2021-09-24T11:26:50.151705Z"
    },
    "papermill": {
     "duration": 0.393982,
     "end_time": "2021-09-24T12:02:51.352429",
     "exception": false,
     "start_time": "2021-09-24T12:02:50.958447",
     "status": "completed"
    },
    "tags": []
   },
   "outputs": [
    {
     "data": {
      "image/png": "[encoded data removed]",
      "text/plain": [
       "<Figure size 1152x864 with 1 Axes>"
      ]
     },
     "metadata": {},
     "output_type": "display_data"
    }
   ],
   "source": [
    "plt.style.use(\"seaborn\")\n",
    "\n",
    "color=plt.cm.flag(np.linspace(0,2,4))\n",
    "players[\"Position\"].value_counts().plot.bar(color=color,figsize=(16,12))\n",
    "\n",
    "plt.title(\"number of positions of Players\")\n",
    "plt.xlabel('Position')\n",
    "plt.ylabel(\"total count\")\n",
    "plt.show()"
   ]
  },
  {
   "cell_type": "code",
   "execution_count": 5,
   "id": "f6809aff",
   "metadata": {
    "execution": {
     "iopub.execute_input": "2021-09-24T12:02:51.434642Z",
     "iopub.status.busy": "2021-09-24T12:02:51.408990Z",
     "iopub.status.idle": "2021-09-24T12:02:51.606017Z",
     "shell.execute_reply": "2021-09-24T12:02:51.605468Z",
     "shell.execute_reply.started": "2021-09-24T11:26:50.650173Z"
    },
    "papermill": {
     "duration": 0.228609,
     "end_time": "2021-09-24T12:02:51.606154",
     "exception": false,
     "start_time": "2021-09-24T12:02:51.377545",
     "status": "completed"
    },
    "tags": []
   },
   "outputs": [
    {
     "data": {
      "text/plain": [
       "<AxesSubplot:>"
      ]
     },
     "execution_count": 5,
     "metadata": {},
     "output_type": "execute_result"
    },
    {
     "data": {
      "image/png": "[encoded data removed]",
      "text/plain": [
       "<Figure size 864x576 with 2 Axes>"
      ]
     },
     "metadata": {},
     "output_type": "display_data"
    }
   ],
   "source": [
    "# relationship between features\n",
    "corr = players.corr()\n",
    "fig, ax = plt.subplots(figsize=(12,8))\n",
    "sns.heatmap(corr)"
   ]
  },
  {
   "cell_type": "code",
   "execution_count": 6,
   "id": "6b80bb42",
   "metadata": {
    "execution": {
     "iopub.execute_input": "2021-09-24T12:02:51.666015Z",
     "iopub.status.busy": "2021-09-24T12:02:51.665342Z",
     "iopub.status.idle": "2021-09-24T12:02:52.621423Z",
     "shell.execute_reply": "2021-09-24T12:02:52.621909Z",
     "shell.execute_reply.started": "2021-09-24T11:26:50.892140Z"
    },
    "papermill": {
     "duration": 0.989552,
     "end_time": "2021-09-24T12:02:52.622085",
     "exception": false,
     "start_time": "2021-09-24T12:02:51.632533",
     "status": "completed"
    },
    "tags": []
   },
   "outputs": [
    {
     "data": {
      "text/html": [
       "        <script type=\"text/javascript\">\n",
       "        window.PlotlyConfig = {MathJaxConfig: 'local'};\n",
       "        if (window.MathJax) {MathJax.Hub.Config({SVG: {font: \"STIX-Web\"}});}\n",
       "        if (typeof require !== 'undefined') {\n",
       "        require.undef(\"plotly\");\n",
       "        requirejs.config({\n",
       "            paths: {\n",
       "                'plotly': ['https://cdn.plot.ly/plotly-2.4.2.min']\n",
       "            }\n",
       "        });\n",
       "        require(['plotly'], function(Plotly) {\n",
       "            window._Plotly = Plotly;\n",
       "        });\n",
       "        }\n",
       "        </script>\n",
       "        "
      ]
     },
     "metadata": {},
     "output_type": "display_data"
    },
    {
     "data": {
      "text/html": [
       "<div>                            <div id=\"d6d10ac4-e5a7-4f30-abb2-cd6d948e449b\" class=\"plotly-graph-div\" style=\"height:900px; width:800px;\"></div>            <script type=\"text/javascript\">                require([\"plotly\"], function(Plotly) {                    window.PLOTLYENV=window.PLOTLYENV || {};                                    if (document.getElementById(\"d6d10ac4-e5a7-4f30-abb2-cd6d948e449b\")) {                    Plotly.newPlot(                        \"d6d10ac4-e5a7-4f30-abb2-cd6d948e449b\",                        [{\"alignmentgroup\":\"True\",\"hovertemplate\":\"players=%{x}<br>college=%{y}<extra></extra>\",\"legendgroup\":\"\",\"marker\":{\"color\":\"#636efa\",\"pattern\":{\"shape\":\"\"}},\"name\":\"\",\"offsetgroup\":\"\",\"orientation\":\"h\",\"showlegend\":false,\"textposition\":\"auto\",\"type\":\"bar\",\"x\":[22,22,23,23,23,23,23,23,26,26,27,28,28,28,30,30,31,32,33,33,33,34,35,35,36,37,37,37,39,42,44,44,45,45,45,47,52,55,56,69],\"xaxis\":\"x\",\"y\":[\"Central Florida\",\"Missouri\",\"Michigan State\",\"Pittsburgh\",\"Virginia\",\"West Virginia\",\"North Carolina\",\"Texas Christian\",\"Arkansas\",\"North Carolina State\",\"Mississippi State\",\"California\",\"Texas A&amp;M\",\"Temple\",\"Oregon\",\"Southern California\",\"Mississippi\",\"Nebraska\",\"Iowa\",\"South Carolina\",\"Tennessee\",\"Texas\",\"Wisconsin\",\"Utah\",\"UCLA\",\"Washington\",\"Stanford\",\"Oklahoma\",\"Auburn\",\"Florida State\",\"Notre Dame\",\"Clemson\",\"Miami\",\"Michigan\",\"Penn State\",\"Georgia\",\"Louisiana State\",\"Florida\",\"Ohio State\",\"Alabama\"],\"yaxis\":\"y\"}],                        {\"barmode\":\"relative\",\"height\":900,\"legend\":{\"tracegroupgap\":0},\"template\":{\"data\":{\"bar\":[{\"error_x\":{\"color\":\"#2a3f5f\"},\"error_y\":{\"color\":\"#2a3f5f\"},\"marker\":{\"line\":{\"color\":\"#E5ECF6\",\"width\":0.5},\"pattern\":{\"fillmode\":\"overlay\",\"size\":10,\"solidity\":0.2}},\"type\":\"bar\"}],\"barpolar\":[{\"marker\":{\"line\":{\"color\":\"#E5ECF6\",\"width\":0.5},\"pattern\":{\"fillmode\":\"overlay\",\"size\":10,\"solidity\":0.2}},\"type\":\"barpolar\"}],\"carpet\":[{\"aaxis\":{\"endlinecolor\":\"#2a3f5f\",\"gridcolor\":\"white\",\"linecolor\":\"white\",\"minorgridcolor\":\"white\",\"startlinecolor\":\"#2a3f5f\"},\"baxis\":{\"endlinecolor\":\"#2a3f5f\",\"gridcolor\":\"white\",\"linecolor\":\"white\",\"minorgridcolor\":\"white\",\"startlinecolor\":\"#2a3f5f\"},\"type\":\"carpet\"}],\"choropleth\":[{\"colorbar\":{\"outlinewidth\":0,\"ticks\":\"\"},\"type\":\"choropleth\"}],\"contour\":[{\"colorbar\":{\"outlinewidth\":0,\"ticks\":\"\"},\"colorscale\":[[0.0,\"#0d0887\"],[0.1111111111111111,\"#46039f\"],[0.2222222222222222,\"#7201a8\"],[0.3333333333333333,\"#9c179e\"],[0.4444444444444444,\"#bd3786\"],[0.5555555555555556,\"#d8576b\"],[0.6666666666666666,\"#ed7953\"],[0.7777777777777778,\"#fb9f3a\"],[0.8888888888888888,\"#fdca26\"],[1.0,\"#f0f921\"]],\"type\":\"contour\"}],\"contourcarpet\":[{\"colorbar\":{\"outlinewidth\":0,\"ticks\":\"\"},\"type\":\"contourcarpet\"}],\"heatmap\":[{\"colorbar\":{\"outlinewidth\":0,\"ticks\":\"\"},\"colorscale\":[[0.0,\"#0d0887\"],[0.1111111111111111,\"#46039f\"],[0.2222222222222222,\"#7201a8\"],[0.3333333333333333,\"#9c179e\"],[0.4444444444444444,\"#bd3786\"],[0.5555555555555556,\"#d8576b\"],[0.6666666666666666,\"#ed7953\"],[0.7777777777777778,\"#fb9f3a\"],[0.8888888888888888,\"#fdca26\"],[1.0,\"#f0f921\"]],\"type\":\"heatmap\"}],\"heatmapgl\":[{\"colorbar\":{\"outlinewidth\":0,\"ticks\":\"\"},\"colorscale\":[[0.0,\"#0d0887\"],[0.1111111111111111,\"#46039f\"],[0.2222222222222222,\"#7201a8\"],[0.3333333333333333,\"#9c179e\"],[0.4444444444444444,\"#bd3786\"],[0.5555555555555556,\"#d8576b\"],[0.6666666666666666,\"#ed7953\"],[0.7777777777777778,\"#fb9f3a\"],[0.8888888888888888,\"#fdca26\"],[1.0,\"#f0f921\"]],\"type\":\"heatmapgl\"}],\"histogram\":[{\"marker\":{\"pattern\":{\"fillmode\":\"overlay\",\"size\":10,\"solidity\":0.2}},\"type\":\"histogram\"}],\"histogram2d\":[{\"colorbar\":{\"outlinewidth\":0,\"ticks\":\"\"},\"colorscale\":[[0.0,\"#0d0887\"],[0.1111111111111111,\"#46039f\"],[0.2222222222222222,\"#7201a8\"],[0.3333333333333333,\"#9c179e\"],[0.4444444444444444,\"#bd3786\"],[0.5555555555555556,\"#d8576b\"],[0.6666666666666666,\"#ed7953\"],[0.7777777777777778,\"#fb9f3a\"],[0.8888888888888888,\"#fdca26\"],[1.0,\"#f0f921\"]],\"type\":\"histogram2d\"}],\"histogram2dcontour\":[{\"colorbar\":{\"outlinewidth\":0,\"ticks\":\"\"},\"colorscale\":[[0.0,\"#0d0887\"],[0.1111111111111111,\"#46039f\"],[0.2222222222222222,\"#7201a8\"],[0.3333333333333333,\"#9c179e\"],[0.4444444444444444,\"#bd3786\"],[0.5555555555555556,\"#d8576b\"],[0.6666666666666666,\"#ed7953\"],[0.7777777777777778,\"#fb9f3a\"],[0.8888888888888888,\"#fdca26\"],[1.0,\"#f0f921\"]],\"type\":\"histogram2dcontour\"}],\"mesh3d\":[{\"colorbar\":{\"outlinewidth\":0,\"ticks\":\"\"},\"type\":\"mesh3d\"}],\"parcoords\":[{\"line\":{\"colorbar\":{\"outlinewidth\":0,\"ticks\":\"\"}},\"type\":\"parcoords\"}],\"pie\":[{\"automargin\":true,\"type\":\"pie\"}],\"scatter\":[{\"marker\":{\"colorbar\":{\"outlinewidth\":0,\"ticks\":\"\"}},\"type\":\"scatter\"}],\"scatter3d\":[{\"line\":{\"colorbar\":{\"outlinewidth\":0,\"ticks\":\"\"}},\"marker\":{\"colorbar\":{\"outlinewidth\":0,\"ticks\":\"\"}},\"type\":\"scatter3d\"}],\"scattercarpet\":[{\"marker\":{\"colorbar\":{\"outlinewidth\":0,\"ticks\":\"\"}},\"type\":\"scattercarpet\"}],\"scattergeo\":[{\"marker\":{\"colorbar\":{\"outlinewidth\":0,\"ticks\":\"\"}},\"type\":\"scattergeo\"}],\"scattergl\":[{\"marker\":{\"colorbar\":{\"outlinewidth\":0,\"ticks\":\"\"}},\"type\":\"scattergl\"}],\"scattermapbox\":[{\"marker\":{\"colorbar\":{\"outlinewidth\":0,\"ticks\":\"\"}},\"type\":\"scattermapbox\"}],\"scatterpolar\":[{\"marker\":{\"colorbar\":{\"outlinewidth\":0,\"ticks\":\"\"}},\"type\":\"scatterpolar\"}],\"scatterpolargl\":[{\"marker\":{\"colorbar\":{\"outlinewidth\":0,\"ticks\":\"\"}},\"type\":\"scatterpolargl\"}],\"scatterternary\":[{\"marker\":{\"colorbar\":{\"outlinewidth\":0,\"ticks\":\"\"}},\"type\":\"scatterternary\"}],\"surface\":[{\"colorbar\":{\"outlinewidth\":0,\"ticks\":\"\"},\"colorscale\":[[0.0,\"#0d0887\"],[0.1111111111111111,\"#46039f\"],[0.2222222222222222,\"#7201a8\"],[0.3333333333333333,\"#9c179e\"],[0.4444444444444444,\"#bd3786\"],[0.5555555555555556,\"#d8576b\"],[0.6666666666666666,\"#ed7953\"],[0.7777777777777778,\"#fb9f3a\"],[0.8888888888888888,\"#fdca26\"],[1.0,\"#f0f921\"]],\"type\":\"surface\"}],\"table\":[{\"cells\":{\"fill\":{\"color\":\"#EBF0F8\"},\"line\":{\"color\":\"white\"}},\"header\":{\"fill\":{\"color\":\"#C8D4E3\"},\"line\":{\"color\":\"white\"}},\"type\":\"table\"}]},\"layout\":{\"annotationdefaults\":{\"arrowcolor\":\"#2a3f5f\",\"arrowhead\":0,\"arrowwidth\":1},\"autotypenumbers\":\"strict\",\"coloraxis\":{\"colorbar\":{\"outlinewidth\":0,\"ticks\":\"\"}},\"colorscale\":{\"diverging\":[[0,\"#8e0152\"],[0.1,\"#c51b7d\"],[0.2,\"#de77ae\"],[0.3,\"#f1b6da\"],[0.4,\"#fde0ef\"],[0.5,\"#f7f7f7\"],[0.6,\"#e6f5d0\"],[0.7,\"#b8e186\"],[0.8,\"#7fbc41\"],[0.9,\"#4d9221\"],[1,\"#276419\"]],\"sequential\":[[0.0,\"#0d0887\"],[0.1111111111111111,\"#46039f\"],[0.2222222222222222,\"#7201a8\"],[0.3333333333333333,\"#9c179e\"],[0.4444444444444444,\"#bd3786\"],[0.5555555555555556,\"#d8576b\"],[0.6666666666666666,\"#ed7953\"],[0.7777777777777778,\"#fb9f3a\"],[0.8888888888888888,\"#fdca26\"],[1.0,\"#f0f921\"]],\"sequentialminus\":[[0.0,\"#0d0887\"],[0.1111111111111111,\"#46039f\"],[0.2222222222222222,\"#7201a8\"],[0.3333333333333333,\"#9c179e\"],[0.4444444444444444,\"#bd3786\"],[0.5555555555555556,\"#d8576b\"],[0.6666666666666666,\"#ed7953\"],[0.7777777777777778,\"#fb9f3a\"],[0.8888888888888888,\"#fdca26\"],[1.0,\"#f0f921\"]]},\"colorway\":[\"#636efa\",\"#EF553B\",\"#00cc96\",\"#ab63fa\",\"#FFA15A\",\"#19d3f3\",\"#FF6692\",\"#B6E880\",\"#FF97FF\",\"#FECB52\"],\"font\":{\"color\":\"#2a3f5f\"},\"geo\":{\"bgcolor\":\"white\",\"lakecolor\":\"white\",\"landcolor\":\"#E5ECF6\",\"showlakes\":true,\"showland\":true,\"subunitcolor\":\"white\"},\"hoverlabel\":{\"align\":\"left\"},\"hovermode\":\"closest\",\"mapbox\":{\"style\":\"light\"},\"paper_bgcolor\":\"white\",\"plot_bgcolor\":\"#E5ECF6\",\"polar\":{\"angularaxis\":{\"gridcolor\":\"white\",\"linecolor\":\"white\",\"ticks\":\"\"},\"bgcolor\":\"#E5ECF6\",\"radialaxis\":{\"gridcolor\":\"white\",\"linecolor\":\"white\",\"ticks\":\"\"}},\"scene\":{\"xaxis\":{\"backgroundcolor\":\"#E5ECF6\",\"gridcolor\":\"white\",\"gridwidth\":2,\"linecolor\":\"white\",\"showbackground\":true,\"ticks\":\"\",\"zerolinecolor\":\"white\"},\"yaxis\":{\"backgroundcolor\":\"#E5ECF6\",\"gridcolor\":\"white\",\"gridwidth\":2,\"linecolor\":\"white\",\"showbackground\":true,\"ticks\":\"\",\"zerolinecolor\":\"white\"},\"zaxis\":{\"backgroundcolor\":\"#E5ECF6\",\"gridcolor\":\"white\",\"gridwidth\":2,\"linecolor\":\"white\",\"showbackground\":true,\"ticks\":\"\",\"zerolinecolor\":\"white\"}},\"shapedefaults\":{\"line\":{\"color\":\"#2a3f5f\"}},\"ternary\":{\"aaxis\":{\"gridcolor\":\"white\",\"linecolor\":\"white\",\"ticks\":\"\"},\"baxis\":{\"gridcolor\":\"white\",\"linecolor\":\"white\",\"ticks\":\"\"},\"bgcolor\":\"#E5ECF6\",\"caxis\":{\"gridcolor\":\"white\",\"linecolor\":\"white\",\"ticks\":\"\"}},\"title\":{\"x\":0.05},\"xaxis\":{\"automargin\":true,\"gridcolor\":\"white\",\"linecolor\":\"white\",\"ticks\":\"\",\"title\":{\"standoff\":15},\"zerolinecolor\":\"white\",\"zerolinewidth\":2},\"yaxis\":{\"automargin\":true,\"gridcolor\":\"white\",\"linecolor\":\"white\",\"ticks\":\"\",\"title\":{\"standoff\":15},\"zerolinecolor\":\"white\",\"zerolinewidth\":2}}},\"title\":{\"text\":\"Top 40 colleges by number of players\"},\"width\":800,\"xaxis\":{\"anchor\":\"y\",\"domain\":[0.0,1.0],\"title\":{\"text\":\"players\"}},\"yaxis\":{\"anchor\":\"x\",\"domain\":[0.0,1.0],\"title\":{\"text\":\"college\"}}},                        {\"responsive\": true}                    ).then(function(){\n",
       "                            \n",
       "var gd = document.getElementById('d6d10ac4-e5a7-4f30-abb2-cd6d948e449b');\n",
       "var x = new MutationObserver(function (mutations, observer) {{\n",
       "        var display = window.getComputedStyle(gd).display;\n",
       "        if (!display || display === 'none') {{\n",
       "            console.log([gd, 'removed!']);\n",
       "            Plotly.purge(gd);\n",
       "            observer.disconnect();\n",
       "        }}\n",
       "}});\n",
       "\n",
       "// Listen for the removal of the full notebook cells\n",
       "var notebookContainer = gd.closest('#notebook-container');\n",
       "if (notebookContainer) {{\n",
       "    x.observe(notebookContainer, {childList: true});\n",
       "}}\n",
       "\n",
       "// Listen for the clearing of the current output cell\n",
       "var outputEl = gd.closest('.output');\n",
       "if (outputEl) {{\n",
       "    x.observe(outputEl, {childList: true});\n",
       "}}\n",
       "\n",
       "                        })                };                });            </script>        </div>"
      ]
     },
     "metadata": {},
     "output_type": "display_data"
    }
   ],
   "source": [
    "\n",
    "check = players['collegeName'].value_counts().reset_index()\n",
    "\n",
    "check.columns = [\n",
    "    'college', \n",
    "    'players'\n",
    "]\n",
    "\n",
    "check = check.sort_values('players').tail(40)\n",
    "\n",
    "fig = px.bar(\n",
    "    check, \n",
    "    y='college', \n",
    "    x=\"players\", \n",
    "    orientation='h', \n",
    "    title='Top 40 colleges by number of players',\n",
    "    height=900,\n",
    "    width=800\n",
    ")\n",
    "\n",
    "fig.show()"
   ]
  },
  {
   "cell_type": "markdown",
   "id": "df230320",
   "metadata": {
    "papermill": {
     "duration": 0.027087,
     "end_time": "2021-09-24T12:02:52.676910",
     "exception": false,
     "start_time": "2021-09-24T12:02:52.649823",
     "status": "completed"
    },
    "tags": []
   },
   "source": [
    "## Game data"
   ]
  },
  {
   "cell_type": "code",
   "execution_count": 7,
   "id": "e073365a",
   "metadata": {
    "execution": {
     "iopub.execute_input": "2021-09-24T12:02:52.736496Z",
     "iopub.status.busy": "2021-09-24T12:02:52.735858Z",
     "iopub.status.idle": "2021-09-24T12:02:52.758208Z",
     "shell.execute_reply": "2021-09-24T12:02:52.757624Z",
     "shell.execute_reply.started": "2021-09-24T11:31:04.654660Z"
    },
    "papermill": {
     "duration": 0.053854,
     "end_time": "2021-09-24T12:02:52.758347",
     "exception": false,
     "start_time": "2021-09-24T12:02:52.704493",
     "status": "completed"
    },
    "tags": []
   },
   "outputs": [
    {
     "data": {
      "text/html": [
       "<div>\n",
       "<style scoped>\n",
       "    .dataframe tbody tr th:only-of-type {\n",
       "        vertical-align: middle;\n",
       "    }\n",
       "\n",
       "    .dataframe tbody tr th {\n",
       "        vertical-align: top;\n",
       "    }\n",
       "\n",
       "    .dataframe thead th {\n",
       "        text-align: right;\n",
       "    }\n",
       "</style>\n",
       "<table border=\"1\" class=\"dataframe\">\n",
       "  <thead>\n",
       "    <tr style=\"text-align: right;\">\n",
       "      <th></th>\n",
       "      <th>gameId</th>\n",
       "      <th>season</th>\n",
       "      <th>week</th>\n",
       "      <th>gameDate</th>\n",
       "      <th>gameTimeEastern</th>\n",
       "      <th>homeTeamAbbr</th>\n",
       "      <th>visitorTeamAbbr</th>\n",
       "    </tr>\n",
       "  </thead>\n",
       "  <tbody>\n",
       "    <tr>\n",
       "      <th>0</th>\n",
       "      <td>2018090600</td>\n",
       "      <td>2018</td>\n",
       "      <td>1</td>\n",
       "      <td>09/06/2018</td>\n",
       "      <td>20:20:00</td>\n",
       "      <td>PHI</td>\n",
       "      <td>ATL</td>\n",
       "    </tr>\n",
       "    <tr>\n",
       "      <th>1</th>\n",
       "      <td>2018090900</td>\n",
       "      <td>2018</td>\n",
       "      <td>1</td>\n",
       "      <td>09/09/2018</td>\n",
       "      <td>13:00:00</td>\n",
       "      <td>BAL</td>\n",
       "      <td>BUF</td>\n",
       "    </tr>\n",
       "    <tr>\n",
       "      <th>2</th>\n",
       "      <td>2018090901</td>\n",
       "      <td>2018</td>\n",
       "      <td>1</td>\n",
       "      <td>09/09/2018</td>\n",
       "      <td>13:00:00</td>\n",
       "      <td>CLE</td>\n",
       "      <td>PIT</td>\n",
       "    </tr>\n",
       "    <tr>\n",
       "      <th>3</th>\n",
       "      <td>2018090902</td>\n",
       "      <td>2018</td>\n",
       "      <td>1</td>\n",
       "      <td>09/09/2018</td>\n",
       "      <td>13:00:00</td>\n",
       "      <td>IND</td>\n",
       "      <td>CIN</td>\n",
       "    </tr>\n",
       "    <tr>\n",
       "      <th>4</th>\n",
       "      <td>2018090903</td>\n",
       "      <td>2018</td>\n",
       "      <td>1</td>\n",
       "      <td>09/09/2018</td>\n",
       "      <td>13:00:00</td>\n",
       "      <td>MIA</td>\n",
       "      <td>TEN</td>\n",
       "    </tr>\n",
       "    <tr>\n",
       "      <th>...</th>\n",
       "      <td>...</td>\n",
       "      <td>...</td>\n",
       "      <td>...</td>\n",
       "      <td>...</td>\n",
       "      <td>...</td>\n",
       "      <td>...</td>\n",
       "      <td>...</td>\n",
       "    </tr>\n",
       "    <tr>\n",
       "      <th>759</th>\n",
       "      <td>2021010311</td>\n",
       "      <td>2020</td>\n",
       "      <td>17</td>\n",
       "      <td>01/03/2021</td>\n",
       "      <td>16:25:00</td>\n",
       "      <td>DEN</td>\n",
       "      <td>LV</td>\n",
       "    </tr>\n",
       "    <tr>\n",
       "      <th>760</th>\n",
       "      <td>2021010312</td>\n",
       "      <td>2020</td>\n",
       "      <td>17</td>\n",
       "      <td>01/03/2021</td>\n",
       "      <td>16:25:00</td>\n",
       "      <td>HOU</td>\n",
       "      <td>TEN</td>\n",
       "    </tr>\n",
       "    <tr>\n",
       "      <th>761</th>\n",
       "      <td>2021010313</td>\n",
       "      <td>2020</td>\n",
       "      <td>17</td>\n",
       "      <td>01/03/2021</td>\n",
       "      <td>16:25:00</td>\n",
       "      <td>IND</td>\n",
       "      <td>JAX</td>\n",
       "    </tr>\n",
       "    <tr>\n",
       "      <th>762</th>\n",
       "      <td>2021010314</td>\n",
       "      <td>2020</td>\n",
       "      <td>17</td>\n",
       "      <td>01/03/2021</td>\n",
       "      <td>16:25:00</td>\n",
       "      <td>LA</td>\n",
       "      <td>ARI</td>\n",
       "    </tr>\n",
       "    <tr>\n",
       "      <th>763</th>\n",
       "      <td>2021010315</td>\n",
       "      <td>2020</td>\n",
       "      <td>17</td>\n",
       "      <td>01/03/2021</td>\n",
       "      <td>16:25:00</td>\n",
       "      <td>SF</td>\n",
       "      <td>SEA</td>\n",
       "    </tr>\n",
       "  </tbody>\n",
       "</table>\n",
       "<p>764 rows × 7 columns</p>\n",
       "</div>"
      ],
      "text/plain": [
       "         gameId  season  week    gameDate gameTimeEastern homeTeamAbbr  \\\n",
       "0    2018090600    2018     1  09/06/2018        20:20:00          PHI   \n",
       "1    2018090900    2018     1  09/09/2018        13:00:00          BAL   \n",
       "2    2018090901    2018     1  09/09/2018        13:00:00          CLE   \n",
       "3    2018090902    2018     1  09/09/2018        13:00:00          IND   \n",
       "4    2018090903    2018     1  09/09/2018        13:00:00          MIA   \n",
       "..          ...     ...   ...         ...             ...          ...   \n",
       "759  2021010311    2020    17  01/03/2021        16:25:00          DEN   \n",
       "760  2021010312    2020    17  01/03/2021        16:25:00          HOU   \n",
       "761  2021010313    2020    17  01/03/2021        16:25:00          IND   \n",
       "762  2021010314    2020    17  01/03/2021        16:25:00           LA   \n",
       "763  2021010315    2020    17  01/03/2021        16:25:00           SF   \n",
       "\n",
       "    visitorTeamAbbr  \n",
       "0               ATL  \n",
       "1               BUF  \n",
       "2               PIT  \n",
       "3               CIN  \n",
       "4               TEN  \n",
       "..              ...  \n",
       "759              LV  \n",
       "760             TEN  \n",
       "761             JAX  \n",
       "762             ARI  \n",
       "763             SEA  \n",
       "\n",
       "[764 rows x 7 columns]"
      ]
     },
     "execution_count": 7,
     "metadata": {},
     "output_type": "execute_result"
    }
   ],
   "source": [
    "game = pd.read_csv('../input/nfl-big-data-bowl-2022/games.csv')\n",
    "game"
   ]
  },
  {
   "cell_type": "code",
   "execution_count": 8,
   "id": "9d719de0",
   "metadata": {
    "execution": {
     "iopub.execute_input": "2021-09-24T12:02:52.821744Z",
     "iopub.status.busy": "2021-09-24T12:02:52.821117Z",
     "iopub.status.idle": "2021-09-24T12:02:52.824527Z",
     "shell.execute_reply": "2021-09-24T12:02:52.824999Z",
     "shell.execute_reply.started": "2021-09-24T11:29:03.401821Z"
    },
    "papermill": {
     "duration": 0.038836,
     "end_time": "2021-09-24T12:02:52.825167",
     "exception": false,
     "start_time": "2021-09-24T12:02:52.786331",
     "status": "completed"
    },
    "tags": []
   },
   "outputs": [
    {
     "name": "stdout",
     "output_type": "stream",
     "text": [
      "gameId             0\n",
      "season             0\n",
      "week               0\n",
      "gameDate           0\n",
      "gameTimeEastern    0\n",
      "homeTeamAbbr       0\n",
      "visitorTeamAbbr    0\n",
      "dtype: int64\n"
     ]
    }
   ],
   "source": [
    "# No null values its good\n",
    "print(game.isnull().sum())"
   ]
  },
  {
   "cell_type": "markdown",
   "id": "9e1b47c6",
   "metadata": {
    "papermill": {
     "duration": 0.028205,
     "end_time": "2021-09-24T12:02:52.881732",
     "exception": false,
     "start_time": "2021-09-24T12:02:52.853527",
     "status": "completed"
    },
    "tags": []
   },
   "source": [
    "#### game csv contains data for games records. The key variable is game-id\n",
    "\n",
    "* **game-id**     :  game-ID identififer numeric (Int 64) \n",
    "* **season**      : season (int 64)\n",
    "* **week**        :  Week of game (numeric) (Int 64)\n",
    "* **gamedate**    :  Data of game (Object)\n",
    "* **gameTimeEastern** :  Start time of game (time, HH:MM:SS, EST)\n",
    "* **visitorTeamAbbr**    : Visiting team three-letter code (text) (Object)"
   ]
  },
  {
   "cell_type": "markdown",
   "id": "ccd9fe60",
   "metadata": {
    "papermill": {
     "duration": 0.027948,
     "end_time": "2021-09-24T12:02:52.937828",
     "exception": false,
     "start_time": "2021-09-24T12:02:52.909880",
     "status": "completed"
    },
    "tags": []
   },
   "source": [
    "### games player per year(Season)"
   ]
  },
  {
   "cell_type": "code",
   "execution_count": 9,
   "id": "f163aafe",
   "metadata": {
    "execution": {
     "iopub.execute_input": "2021-09-24T12:02:53.040695Z",
     "iopub.status.busy": "2021-09-24T12:02:53.030275Z",
     "iopub.status.idle": "2021-09-24T12:02:53.130817Z",
     "shell.execute_reply": "2021-09-24T12:02:53.130261Z",
     "shell.execute_reply.started": "2021-09-24T11:37:24.065683Z"
    },
    "papermill": {
     "duration": 0.165327,
     "end_time": "2021-09-24T12:02:53.130965",
     "exception": false,
     "start_time": "2021-09-24T12:02:52.965638",
     "status": "completed"
    },
    "tags": []
   },
   "outputs": [
    {
     "data": {
      "image/png": "[encoded data removed]",
      "text/plain": [
       "<Figure size 864x576 with 1 Axes>"
      ]
     },
     "metadata": {},
     "output_type": "display_data"
    }
   ],
   "source": [
    "game[\"season\"].value_counts().plot.pie(figsize=(12,8),explode=(0.1,0.1,0.1),autopct=\"%1.1f%%\")\n",
    "plt.title(\"Games player per year (Season)\",fontsize=18)\n",
    "plt.show()"
   ]
  },
  {
   "cell_type": "code",
   "execution_count": 10,
   "id": "77e1453e",
   "metadata": {
    "execution": {
     "iopub.execute_input": "2021-09-24T12:02:53.207489Z",
     "iopub.status.busy": "2021-09-24T12:02:53.206850Z",
     "iopub.status.idle": "2021-09-24T12:02:53.259162Z",
     "shell.execute_reply": "2021-09-24T12:02:53.259615Z",
     "shell.execute_reply.started": "2021-09-24T11:38:25.058222Z"
    },
    "papermill": {
     "duration": 0.098844,
     "end_time": "2021-09-24T12:02:53.259807",
     "exception": false,
     "start_time": "2021-09-24T12:02:53.160963",
     "status": "completed"
    },
    "tags": []
   },
   "outputs": [
    {
     "data": {
      "text/html": [
       "<div>                            <div id=\"bc10bce8-cde5-4edc-85eb-d12182ed843f\" class=\"plotly-graph-div\" style=\"height:900px; width:800px;\"></div>            <script type=\"text/javascript\">                require([\"plotly\"], function(Plotly) {                    window.PLOTLYENV=window.PLOTLYENV || {};                                    if (document.getElementById(\"bc10bce8-cde5-4edc-85eb-d12182ed843f\")) {                    Plotly.newPlot(                        \"bc10bce8-cde5-4edc-85eb-d12182ed843f\",                        [{\"alignmentgroup\":\"True\",\"hovertemplate\":\"games=%{x}<br>date=%{y}<extra></extra>\",\"legendgroup\":\"\",\"marker\":{\"color\":\"#636efa\",\"pattern\":{\"shape\":\"\"}},\"name\":\"\",\"offsetgroup\":\"\",\"orientation\":\"h\",\"showlegend\":false,\"textposition\":\"auto\",\"type\":\"bar\",\"x\":[1,1,1,1,1,1,1,1,1,1,1,1,1,1,1,1,1,1,1,1,1,1,1,1,1,1,1,1,1,1,1,1,1,1,1,1,1,1,1,1,1,1,1,1,1,1,1,1,1,1,1,1,1,1,1,1,1,1,1,1,1,1,1,1,1,1,1,1,1,1,1,1,1,1,1,1,1,1,1,1,1,1,1,1,1,1,2,2,2,2,2,2,2,2,2,2,3,3,3,3,10,11,11,11,11,11,11,12,12,12,12,12,12,12,12,12,12,12,12,12,12,12,12,12,12,12,12,12,12,13,13,13,13,13,13,13,13,14,14,14,14,14,14,14,14,14,14,14,16,16,16],\"xaxis\":\"x\",\"y\":[\"10/15/2018\",\"11/12/2020\",\"11/09/2020\",\"10/01/2018\",\"11/05/2020\",\"11/02/2020\",\"09/27/2018\",\"12/10/2018\",\"09/17/2020\",\"10/22/2018\",\"11/12/2018\",\"10/17/2019\",\"10/14/2019\",\"11/15/2018\",\"10/10/2019\",\"10/07/2019\",\"12/17/2020\",\"10/03/2019\",\"12/14/2020\",\"11/16/2020\",\"09/28/2020\",\"10/18/2018\",\"09/24/2020\",\"09/21/2020\",\"10/08/2018\",\"10/29/2020\",\"09/17/2018\",\"11/19/2020\",\"12/02/2020\",\"12/10/2020\",\"11/30/2020\",\"09/20/2018\",\"09/13/2018\",\"11/23/2020\",\"09/24/2018\",\"10/04/2018\",\"10/01/2020\",\"09/30/2019\",\"09/26/2019\",\"12/16/2019\",\"10/29/2018\",\"12/12/2019\",\"12/09/2019\",\"11/01/2018\",\"12/02/2019\",\"10/31/2019\",\"11/25/2019\",\"11/05/2018\",\"11/21/2019\",\"11/18/2019\",\"11/08/2018\",\"11/14/2019\",\"11/11/2019\",\"11/07/2019\",\"12/13/2018\",\"11/19/2018\",\"12/23/2019\",\"09/10/2020\",\"09/23/2019\",\"09/19/2019\",\"09/16/2019\",\"09/12/2019\",\"11/26/2018\",\"09/05/2019\",\"11/29/2018\",\"12/24/2018\",\"12/03/2018\",\"12/17/2018\",\"12/06/2018\",\"10/21/2019\",\"10/24/2019\",\"10/28/2019\",\"12/05/2019\",\"10/25/2018\",\"11/04/2019\",\"09/06/2018\",\"10/08/2020\",\"10/26/2020\",\"12/08/2020\",\"10/13/2020\",\"10/11/2018\",\"12/25/2020\",\"12/21/2020\",\"10/22/2020\",\"10/12/2020\",\"12/28/2020\",\"12/07/2020\",\"10/05/2020\",\"11/26/2020\",\"10/19/2020\",\"12/15/2018\",\"12/22/2018\",\"09/10/2018\",\"12/19/2020\",\"09/09/2019\",\"09/14/2020\",\"12/26/2020\",\"12/21/2019\",\"11/28/2019\",\"11/22/2018\",\"09/09/2018\",\"12/27/2020\",\"10/11/2020\",\"11/18/2018\",\"11/10/2019\",\"11/25/2018\",\"11/04/2018\",\"10/20/2019\",\"09/29/2019\",\"11/15/2020\",\"11/22/2020\",\"11/08/2020\",\"12/06/2020\",\"12/20/2020\",\"10/04/2020\",\"11/29/2020\",\"10/13/2019\",\"10/25/2020\",\"11/17/2019\",\"11/24/2019\",\"12/01/2019\",\"12/22/2019\",\"10/18/2020\",\"12/16/2018\",\"11/03/2019\",\"10/28/2018\",\"10/21/2018\",\"11/11/2018\",\"11/01/2020\",\"09/08/2019\",\"10/27/2019\",\"12/23/2018\",\"10/06/2019\",\"10/07/2018\",\"09/30/2018\",\"10/14/2018\",\"09/13/2020\",\"09/27/2020\",\"12/09/2018\",\"12/15/2019\",\"12/08/2019\",\"09/22/2019\",\"09/15/2019\",\"12/02/2018\",\"09/16/2018\",\"12/13/2020\",\"09/20/2020\",\"09/23/2018\",\"12/30/2018\",\"12/29/2019\",\"01/03/2021\"],\"yaxis\":\"y\"}],                        {\"barmode\":\"relative\",\"height\":900,\"legend\":{\"tracegroupgap\":0},\"template\":{\"data\":{\"bar\":[{\"error_x\":{\"color\":\"#2a3f5f\"},\"error_y\":{\"color\":\"#2a3f5f\"},\"marker\":{\"line\":{\"color\":\"#E5ECF6\",\"width\":0.5},\"pattern\":{\"fillmode\":\"overlay\",\"size\":10,\"solidity\":0.2}},\"type\":\"bar\"}],\"barpolar\":[{\"marker\":{\"line\":{\"color\":\"#E5ECF6\",\"width\":0.5},\"pattern\":{\"fillmode\":\"overlay\",\"size\":10,\"solidity\":0.2}},\"type\":\"barpolar\"}],\"carpet\":[{\"aaxis\":{\"endlinecolor\":\"#2a3f5f\",\"gridcolor\":\"white\",\"linecolor\":\"white\",\"minorgridcolor\":\"white\",\"startlinecolor\":\"#2a3f5f\"},\"baxis\":{\"endlinecolor\":\"#2a3f5f\",\"gridcolor\":\"white\",\"linecolor\":\"white\",\"minorgridcolor\":\"white\",\"startlinecolor\":\"#2a3f5f\"},\"type\":\"carpet\"}],\"choropleth\":[{\"colorbar\":{\"outlinewidth\":0,\"ticks\":\"\"},\"type\":\"choropleth\"}],\"contour\":[{\"colorbar\":{\"outlinewidth\":0,\"ticks\":\"\"},\"colorscale\":[[0.0,\"#0d0887\"],[0.1111111111111111,\"#46039f\"],[0.2222222222222222,\"#7201a8\"],[0.3333333333333333,\"#9c179e\"],[0.4444444444444444,\"#bd3786\"],[0.5555555555555556,\"#d8576b\"],[0.6666666666666666,\"#ed7953\"],[0.7777777777777778,\"#fb9f3a\"],[0.8888888888888888,\"#fdca26\"],[1.0,\"#f0f921\"]],\"type\":\"contour\"}],\"contourcarpet\":[{\"colorbar\":{\"outlinewidth\":0,\"ticks\":\"\"},\"type\":\"contourcarpet\"}],\"heatmap\":[{\"colorbar\":{\"outlinewidth\":0,\"ticks\":\"\"},\"colorscale\":[[0.0,\"#0d0887\"],[0.1111111111111111,\"#46039f\"],[0.2222222222222222,\"#7201a8\"],[0.3333333333333333,\"#9c179e\"],[0.4444444444444444,\"#bd3786\"],[0.5555555555555556,\"#d8576b\"],[0.6666666666666666,\"#ed7953\"],[0.7777777777777778,\"#fb9f3a\"],[0.8888888888888888,\"#fdca26\"],[1.0,\"#f0f921\"]],\"type\":\"heatmap\"}],\"heatmapgl\":[{\"colorbar\":{\"outlinewidth\":0,\"ticks\":\"\"},\"colorscale\":[[0.0,\"#0d0887\"],[0.1111111111111111,\"#46039f\"],[0.2222222222222222,\"#7201a8\"],[0.3333333333333333,\"#9c179e\"],[0.4444444444444444,\"#bd3786\"],[0.5555555555555556,\"#d8576b\"],[0.6666666666666666,\"#ed7953\"],[0.7777777777777778,\"#fb9f3a\"],[0.8888888888888888,\"#fdca26\"],[1.0,\"#f0f921\"]],\"type\":\"heatmapgl\"}],\"histogram\":[{\"marker\":{\"pattern\":{\"fillmode\":\"overlay\",\"size\":10,\"solidity\":0.2}},\"type\":\"histogram\"}],\"histogram2d\":[{\"colorbar\":{\"outlinewidth\":0,\"ticks\":\"\"},\"colorscale\":[[0.0,\"#0d0887\"],[0.1111111111111111,\"#46039f\"],[0.2222222222222222,\"#7201a8\"],[0.3333333333333333,\"#9c179e\"],[0.4444444444444444,\"#bd3786\"],[0.5555555555555556,\"#d8576b\"],[0.6666666666666666,\"#ed7953\"],[0.7777777777777778,\"#fb9f3a\"],[0.8888888888888888,\"#fdca26\"],[1.0,\"#f0f921\"]],\"type\":\"histogram2d\"}],\"histogram2dcontour\":[{\"colorbar\":{\"outlinewidth\":0,\"ticks\":\"\"},\"colorscale\":[[0.0,\"#0d0887\"],[0.1111111111111111,\"#46039f\"],[0.2222222222222222,\"#7201a8\"],[0.3333333333333333,\"#9c179e\"],[0.4444444444444444,\"#bd3786\"],[0.5555555555555556,\"#d8576b\"],[0.6666666666666666,\"#ed7953\"],[0.7777777777777778,\"#fb9f3a\"],[0.8888888888888888,\"#fdca26\"],[1.0,\"#f0f921\"]],\"type\":\"histogram2dcontour\"}],\"mesh3d\":[{\"colorbar\":{\"outlinewidth\":0,\"ticks\":\"\"},\"type\":\"mesh3d\"}],\"parcoords\":[{\"line\":{\"colorbar\":{\"outlinewidth\":0,\"ticks\":\"\"}},\"type\":\"parcoords\"}],\"pie\":[{\"automargin\":true,\"type\":\"pie\"}],\"scatter\":[{\"marker\":{\"colorbar\":{\"outlinewidth\":0,\"ticks\":\"\"}},\"type\":\"scatter\"}],\"scatter3d\":[{\"line\":{\"colorbar\":{\"outlinewidth\":0,\"ticks\":\"\"}},\"marker\":{\"colorbar\":{\"outlinewidth\":0,\"ticks\":\"\"}},\"type\":\"scatter3d\"}],\"scattercarpet\":[{\"marker\":{\"colorbar\":{\"outlinewidth\":0,\"ticks\":\"\"}},\"type\":\"scattercarpet\"}],\"scattergeo\":[{\"marker\":{\"colorbar\":{\"outlinewidth\":0,\"ticks\":\"\"}},\"type\":\"scattergeo\"}],\"scattergl\":[{\"marker\":{\"colorbar\":{\"outlinewidth\":0,\"ticks\":\"\"}},\"type\":\"scattergl\"}],\"scattermapbox\":[{\"marker\":{\"colorbar\":{\"outlinewidth\":0,\"ticks\":\"\"}},\"type\":\"scattermapbox\"}],\"scatterpolar\":[{\"marker\":{\"colorbar\":{\"outlinewidth\":0,\"ticks\":\"\"}},\"type\":\"scatterpolar\"}],\"scatterpolargl\":[{\"marker\":{\"colorbar\":{\"outlinewidth\":0,\"ticks\":\"\"}},\"type\":\"scatterpolargl\"}],\"scatterternary\":[{\"marker\":{\"colorbar\":{\"outlinewidth\":0,\"ticks\":\"\"}},\"type\":\"scatterternary\"}],\"surface\":[{\"colorbar\":{\"outlinewidth\":0,\"ticks\":\"\"},\"colorscale\":[[0.0,\"#0d0887\"],[0.1111111111111111,\"#46039f\"],[0.2222222222222222,\"#7201a8\"],[0.3333333333333333,\"#9c179e\"],[0.4444444444444444,\"#bd3786\"],[0.5555555555555556,\"#d8576b\"],[0.6666666666666666,\"#ed7953\"],[0.7777777777777778,\"#fb9f3a\"],[0.8888888888888888,\"#fdca26\"],[1.0,\"#f0f921\"]],\"type\":\"surface\"}],\"table\":[{\"cells\":{\"fill\":{\"color\":\"#EBF0F8\"},\"line\":{\"color\":\"white\"}},\"header\":{\"fill\":{\"color\":\"#C8D4E3\"},\"line\":{\"color\":\"white\"}},\"type\":\"table\"}]},\"layout\":{\"annotationdefaults\":{\"arrowcolor\":\"#2a3f5f\",\"arrowhead\":0,\"arrowwidth\":1},\"autotypenumbers\":\"strict\",\"coloraxis\":{\"colorbar\":{\"outlinewidth\":0,\"ticks\":\"\"}},\"colorscale\":{\"diverging\":[[0,\"#8e0152\"],[0.1,\"#c51b7d\"],[0.2,\"#de77ae\"],[0.3,\"#f1b6da\"],[0.4,\"#fde0ef\"],[0.5,\"#f7f7f7\"],[0.6,\"#e6f5d0\"],[0.7,\"#b8e186\"],[0.8,\"#7fbc41\"],[0.9,\"#4d9221\"],[1,\"#276419\"]],\"sequential\":[[0.0,\"#0d0887\"],[0.1111111111111111,\"#46039f\"],[0.2222222222222222,\"#7201a8\"],[0.3333333333333333,\"#9c179e\"],[0.4444444444444444,\"#bd3786\"],[0.5555555555555556,\"#d8576b\"],[0.6666666666666666,\"#ed7953\"],[0.7777777777777778,\"#fb9f3a\"],[0.8888888888888888,\"#fdca26\"],[1.0,\"#f0f921\"]],\"sequentialminus\":[[0.0,\"#0d0887\"],[0.1111111111111111,\"#46039f\"],[0.2222222222222222,\"#7201a8\"],[0.3333333333333333,\"#9c179e\"],[0.4444444444444444,\"#bd3786\"],[0.5555555555555556,\"#d8576b\"],[0.6666666666666666,\"#ed7953\"],[0.7777777777777778,\"#fb9f3a\"],[0.8888888888888888,\"#fdca26\"],[1.0,\"#f0f921\"]]},\"colorway\":[\"#636efa\",\"#EF553B\",\"#00cc96\",\"#ab63fa\",\"#FFA15A\",\"#19d3f3\",\"#FF6692\",\"#B6E880\",\"#FF97FF\",\"#FECB52\"],\"font\":{\"color\":\"#2a3f5f\"},\"geo\":{\"bgcolor\":\"white\",\"lakecolor\":\"white\",\"landcolor\":\"#E5ECF6\",\"showlakes\":true,\"showland\":true,\"subunitcolor\":\"white\"},\"hoverlabel\":{\"align\":\"left\"},\"hovermode\":\"closest\",\"mapbox\":{\"style\":\"light\"},\"paper_bgcolor\":\"white\",\"plot_bgcolor\":\"#E5ECF6\",\"polar\":{\"angularaxis\":{\"gridcolor\":\"white\",\"linecolor\":\"white\",\"ticks\":\"\"},\"bgcolor\":\"#E5ECF6\",\"radialaxis\":{\"gridcolor\":\"white\",\"linecolor\":\"white\",\"ticks\":\"\"}},\"scene\":{\"xaxis\":{\"backgroundcolor\":\"#E5ECF6\",\"gridcolor\":\"white\",\"gridwidth\":2,\"linecolor\":\"white\",\"showbackground\":true,\"ticks\":\"\",\"zerolinecolor\":\"white\"},\"yaxis\":{\"backgroundcolor\":\"#E5ECF6\",\"gridcolor\":\"white\",\"gridwidth\":2,\"linecolor\":\"white\",\"showbackground\":true,\"ticks\":\"\",\"zerolinecolor\":\"white\"},\"zaxis\":{\"backgroundcolor\":\"#E5ECF6\",\"gridcolor\":\"white\",\"gridwidth\":2,\"linecolor\":\"white\",\"showbackground\":true,\"ticks\":\"\",\"zerolinecolor\":\"white\"}},\"shapedefaults\":{\"line\":{\"color\":\"#2a3f5f\"}},\"ternary\":{\"aaxis\":{\"gridcolor\":\"white\",\"linecolor\":\"white\",\"ticks\":\"\"},\"baxis\":{\"gridcolor\":\"white\",\"linecolor\":\"white\",\"ticks\":\"\"},\"bgcolor\":\"#E5ECF6\",\"caxis\":{\"gridcolor\":\"white\",\"linecolor\":\"white\",\"ticks\":\"\"}},\"title\":{\"x\":0.05},\"xaxis\":{\"automargin\":true,\"gridcolor\":\"white\",\"linecolor\":\"white\",\"ticks\":\"\",\"title\":{\"standoff\":15},\"zerolinecolor\":\"white\",\"zerolinewidth\":2},\"yaxis\":{\"automargin\":true,\"gridcolor\":\"white\",\"linecolor\":\"white\",\"ticks\":\"\",\"title\":{\"standoff\":15},\"zerolinecolor\":\"white\",\"zerolinewidth\":2}}},\"title\":{\"text\":\"Number of games for every date\"},\"width\":800,\"xaxis\":{\"anchor\":\"y\",\"domain\":[0.0,1.0],\"title\":{\"text\":\"games\"}},\"yaxis\":{\"anchor\":\"x\",\"domain\":[0.0,1.0],\"title\":{\"text\":\"date\"}}},                        {\"responsive\": true}                    ).then(function(){\n",
       "                            \n",
       "var gd = document.getElementById('bc10bce8-cde5-4edc-85eb-d12182ed843f');\n",
       "var x = new MutationObserver(function (mutations, observer) {{\n",
       "        var display = window.getComputedStyle(gd).display;\n",
       "        if (!display || display === 'none') {{\n",
       "            console.log([gd, 'removed!']);\n",
       "            Plotly.purge(gd);\n",
       "            observer.disconnect();\n",
       "        }}\n",
       "}});\n",
       "\n",
       "// Listen for the removal of the full notebook cells\n",
       "var notebookContainer = gd.closest('#notebook-container');\n",
       "if (notebookContainer) {{\n",
       "    x.observe(notebookContainer, {childList: true});\n",
       "}}\n",
       "\n",
       "// Listen for the clearing of the current output cell\n",
       "var outputEl = gd.closest('.output');\n",
       "if (outputEl) {{\n",
       "    x.observe(outputEl, {childList: true});\n",
       "}}\n",
       "\n",
       "                        })                };                });            </script>        </div>"
      ]
     },
     "metadata": {},
     "output_type": "display_data"
    }
   ],
   "source": [
    "check = game['gameDate'].value_counts().reset_index()\n",
    "\n",
    "check.columns = [\n",
    "    'date', \n",
    "    'games'\n",
    "]\n",
    "\n",
    "check = check.sort_values('games')\n",
    "\n",
    "fig = px.bar(\n",
    "    check, \n",
    "    y='date', \n",
    "    x=\"games\", \n",
    "    orientation='h', \n",
    "    title='Number of games for every date', \n",
    "    height=900, \n",
    "    width=800\n",
    ")\n",
    "\n",
    "fig.show()"
   ]
  },
  {
   "cell_type": "markdown",
   "id": "1a300419",
   "metadata": {
    "papermill": {
     "duration": 0.030573,
     "end_time": "2021-09-24T12:02:53.321043",
     "exception": false,
     "start_time": "2021-09-24T12:02:53.290470",
     "status": "completed"
    },
    "tags": []
   },
   "source": [
    "## Play data"
   ]
  },
  {
   "cell_type": "markdown",
   "id": "d76b520f",
   "metadata": {
    "papermill": {
     "duration": 0.029893,
     "end_time": "2021-09-24T12:02:53.381399",
     "exception": false,
     "start_time": "2021-09-24T12:02:53.351506",
     "status": "completed"
    },
    "tags": []
   },
   "source": [
    "### \n",
    "* 24 features we have.\n",
    "* So many missing values be cafeful about them.\n"
   ]
  },
  {
   "cell_type": "code",
   "execution_count": 11,
   "id": "d3713483",
   "metadata": {
    "execution": {
     "iopub.execute_input": "2021-09-24T12:02:53.445348Z",
     "iopub.status.busy": "2021-09-24T12:02:53.444690Z",
     "iopub.status.idle": "2021-09-24T12:02:53.620051Z",
     "shell.execute_reply": "2021-09-24T12:02:53.620579Z",
     "shell.execute_reply.started": "2021-09-24T11:39:59.195466Z"
    },
    "papermill": {
     "duration": 0.208956,
     "end_time": "2021-09-24T12:02:53.620792",
     "exception": false,
     "start_time": "2021-09-24T12:02:53.411836",
     "status": "completed"
    },
    "tags": []
   },
   "outputs": [
    {
     "data": {
      "text/html": [
       "<div>\n",
       "<style scoped>\n",
       "    .dataframe tbody tr th:only-of-type {\n",
       "        vertical-align: middle;\n",
       "    }\n",
       "\n",
       "    .dataframe tbody tr th {\n",
       "        vertical-align: top;\n",
       "    }\n",
       "\n",
       "    .dataframe thead th {\n",
       "        text-align: right;\n",
       "    }\n",
       "</style>\n",
       "<table border=\"1\" class=\"dataframe\">\n",
       "  <thead>\n",
       "    <tr style=\"text-align: right;\">\n",
       "      <th></th>\n",
       "      <th>gameId</th>\n",
       "      <th>playId</th>\n",
       "      <th>playDescription</th>\n",
       "      <th>quarter</th>\n",
       "      <th>down</th>\n",
       "      <th>yardsToGo</th>\n",
       "      <th>possessionTeam</th>\n",
       "      <th>specialTeamsPlayType</th>\n",
       "      <th>specialTeamsResult</th>\n",
       "      <th>kickerId</th>\n",
       "      <th>returnerId</th>\n",
       "      <th>kickBlockerId</th>\n",
       "      <th>yardlineSide</th>\n",
       "      <th>yardlineNumber</th>\n",
       "      <th>gameClock</th>\n",
       "      <th>penaltyCodes</th>\n",
       "      <th>penaltyJerseyNumbers</th>\n",
       "      <th>penaltyYards</th>\n",
       "      <th>preSnapHomeScore</th>\n",
       "      <th>preSnapVisitorScore</th>\n",
       "      <th>passResult</th>\n",
       "      <th>kickLength</th>\n",
       "      <th>kickReturnYardage</th>\n",
       "      <th>playResult</th>\n",
       "      <th>absoluteYardlineNumber</th>\n",
       "    </tr>\n",
       "  </thead>\n",
       "  <tbody>\n",
       "    <tr>\n",
       "      <th>0</th>\n",
       "      <td>2018090600</td>\n",
       "      <td>37</td>\n",
       "      <td>J.Elliott kicks 65 yards from PHI 35 to end zo...</td>\n",
       "      <td>1</td>\n",
       "      <td>0</td>\n",
       "      <td>0</td>\n",
       "      <td>PHI</td>\n",
       "      <td>Kickoff</td>\n",
       "      <td>Touchback</td>\n",
       "      <td>44966.0</td>\n",
       "      <td>NaN</td>\n",
       "      <td>NaN</td>\n",
       "      <td>PHI</td>\n",
       "      <td>35</td>\n",
       "      <td>15:00:00</td>\n",
       "      <td>NaN</td>\n",
       "      <td>NaN</td>\n",
       "      <td>NaN</td>\n",
       "      <td>0</td>\n",
       "      <td>0</td>\n",
       "      <td>NaN</td>\n",
       "      <td>66.0</td>\n",
       "      <td>NaN</td>\n",
       "      <td>40</td>\n",
       "      <td>45</td>\n",
       "    </tr>\n",
       "    <tr>\n",
       "      <th>1</th>\n",
       "      <td>2018090600</td>\n",
       "      <td>366</td>\n",
       "      <td>(9:20) C.Johnston punts 56 yards to ATL 36, Ce...</td>\n",
       "      <td>1</td>\n",
       "      <td>4</td>\n",
       "      <td>4</td>\n",
       "      <td>PHI</td>\n",
       "      <td>Punt</td>\n",
       "      <td>Return</td>\n",
       "      <td>45603.0</td>\n",
       "      <td>42450</td>\n",
       "      <td>NaN</td>\n",
       "      <td>PHI</td>\n",
       "      <td>8</td>\n",
       "      <td>09:20:00</td>\n",
       "      <td>UNSd</td>\n",
       "      <td>PHI 18</td>\n",
       "      <td>-15.0</td>\n",
       "      <td>0</td>\n",
       "      <td>0</td>\n",
       "      <td>NaN</td>\n",
       "      <td>56.0</td>\n",
       "      <td>5.0</td>\n",
       "      <td>36</td>\n",
       "      <td>18</td>\n",
       "    </tr>\n",
       "    <tr>\n",
       "      <th>2</th>\n",
       "      <td>2018090600</td>\n",
       "      <td>658</td>\n",
       "      <td>(5:03) M.Bryant 21 yard field goal is GOOD, Ce...</td>\n",
       "      <td>1</td>\n",
       "      <td>4</td>\n",
       "      <td>3</td>\n",
       "      <td>ATL</td>\n",
       "      <td>Field Goal</td>\n",
       "      <td>Kick Attempt Good</td>\n",
       "      <td>27091.0</td>\n",
       "      <td>NaN</td>\n",
       "      <td>NaN</td>\n",
       "      <td>PHI</td>\n",
       "      <td>3</td>\n",
       "      <td>05:03:00</td>\n",
       "      <td>NaN</td>\n",
       "      <td>NaN</td>\n",
       "      <td>NaN</td>\n",
       "      <td>0</td>\n",
       "      <td>0</td>\n",
       "      <td>NaN</td>\n",
       "      <td>21.0</td>\n",
       "      <td>NaN</td>\n",
       "      <td>0</td>\n",
       "      <td>13</td>\n",
       "    </tr>\n",
       "    <tr>\n",
       "      <th>3</th>\n",
       "      <td>2018090600</td>\n",
       "      <td>677</td>\n",
       "      <td>M.Bosher kicks 64 yards from ATL 35 to PHI 1. ...</td>\n",
       "      <td>1</td>\n",
       "      <td>0</td>\n",
       "      <td>0</td>\n",
       "      <td>ATL</td>\n",
       "      <td>Kickoff</td>\n",
       "      <td>Return</td>\n",
       "      <td>37267.0</td>\n",
       "      <td>44979</td>\n",
       "      <td>NaN</td>\n",
       "      <td>ATL</td>\n",
       "      <td>35</td>\n",
       "      <td>05:01:00</td>\n",
       "      <td>NaN</td>\n",
       "      <td>NaN</td>\n",
       "      <td>NaN</td>\n",
       "      <td>0</td>\n",
       "      <td>3</td>\n",
       "      <td>NaN</td>\n",
       "      <td>64.0</td>\n",
       "      <td>30.0</td>\n",
       "      <td>34</td>\n",
       "      <td>75</td>\n",
       "    </tr>\n",
       "    <tr>\n",
       "      <th>4</th>\n",
       "      <td>2018090600</td>\n",
       "      <td>872</td>\n",
       "      <td>(:33) C.Johnston punts 65 yards to end zone, C...</td>\n",
       "      <td>1</td>\n",
       "      <td>4</td>\n",
       "      <td>18</td>\n",
       "      <td>PHI</td>\n",
       "      <td>Punt</td>\n",
       "      <td>Touchback</td>\n",
       "      <td>45603.0</td>\n",
       "      <td>NaN</td>\n",
       "      <td>NaN</td>\n",
       "      <td>PHI</td>\n",
       "      <td>35</td>\n",
       "      <td>00:33:00</td>\n",
       "      <td>NaN</td>\n",
       "      <td>NaN</td>\n",
       "      <td>NaN</td>\n",
       "      <td>0</td>\n",
       "      <td>3</td>\n",
       "      <td>NaN</td>\n",
       "      <td>65.0</td>\n",
       "      <td>NaN</td>\n",
       "      <td>45</td>\n",
       "      <td>45</td>\n",
       "    </tr>\n",
       "    <tr>\n",
       "      <th>...</th>\n",
       "      <td>...</td>\n",
       "      <td>...</td>\n",
       "      <td>...</td>\n",
       "      <td>...</td>\n",
       "      <td>...</td>\n",
       "      <td>...</td>\n",
       "      <td>...</td>\n",
       "      <td>...</td>\n",
       "      <td>...</td>\n",
       "      <td>...</td>\n",
       "      <td>...</td>\n",
       "      <td>...</td>\n",
       "      <td>...</td>\n",
       "      <td>...</td>\n",
       "      <td>...</td>\n",
       "      <td>...</td>\n",
       "      <td>...</td>\n",
       "      <td>...</td>\n",
       "      <td>...</td>\n",
       "      <td>...</td>\n",
       "      <td>...</td>\n",
       "      <td>...</td>\n",
       "      <td>...</td>\n",
       "      <td>...</td>\n",
       "      <td>...</td>\n",
       "    </tr>\n",
       "    <tr>\n",
       "      <th>19974</th>\n",
       "      <td>2021010315</td>\n",
       "      <td>3683</td>\n",
       "      <td>J.Myers kicks 65 yards from SEA 35 to end zone...</td>\n",
       "      <td>4</td>\n",
       "      <td>0</td>\n",
       "      <td>0</td>\n",
       "      <td>SEA</td>\n",
       "      <td>Kickoff</td>\n",
       "      <td>Touchback</td>\n",
       "      <td>41175.0</td>\n",
       "      <td>NaN</td>\n",
       "      <td>NaN</td>\n",
       "      <td>SEA</td>\n",
       "      <td>35</td>\n",
       "      <td>02:20:00</td>\n",
       "      <td>NaN</td>\n",
       "      <td>NaN</td>\n",
       "      <td>NaN</td>\n",
       "      <td>16</td>\n",
       "      <td>19</td>\n",
       "      <td>NaN</td>\n",
       "      <td>75.0</td>\n",
       "      <td>NaN</td>\n",
       "      <td>40</td>\n",
       "      <td>75</td>\n",
       "    </tr>\n",
       "    <tr>\n",
       "      <th>19975</th>\n",
       "      <td>2021010315</td>\n",
       "      <td>3870</td>\n",
       "      <td>J.Myers extra point is GOOD, Center-T.Ott, Hol...</td>\n",
       "      <td>4</td>\n",
       "      <td>0</td>\n",
       "      <td>0</td>\n",
       "      <td>SEA</td>\n",
       "      <td>Extra Point</td>\n",
       "      <td>Kick Attempt Good</td>\n",
       "      <td>41175.0</td>\n",
       "      <td>NaN</td>\n",
       "      <td>NaN</td>\n",
       "      <td>SF</td>\n",
       "      <td>15</td>\n",
       "      <td>01:49:00</td>\n",
       "      <td>NaN</td>\n",
       "      <td>NaN</td>\n",
       "      <td>NaN</td>\n",
       "      <td>16</td>\n",
       "      <td>25</td>\n",
       "      <td>NaN</td>\n",
       "      <td>NaN</td>\n",
       "      <td>NaN</td>\n",
       "      <td>0</td>\n",
       "      <td>25</td>\n",
       "    </tr>\n",
       "    <tr>\n",
       "      <th>19976</th>\n",
       "      <td>2021010315</td>\n",
       "      <td>3886</td>\n",
       "      <td>J.Myers kicks 65 yards from SEA 35 to end zone...</td>\n",
       "      <td>4</td>\n",
       "      <td>0</td>\n",
       "      <td>0</td>\n",
       "      <td>SEA</td>\n",
       "      <td>Kickoff</td>\n",
       "      <td>Touchback</td>\n",
       "      <td>41175.0</td>\n",
       "      <td>NaN</td>\n",
       "      <td>NaN</td>\n",
       "      <td>SEA</td>\n",
       "      <td>35</td>\n",
       "      <td>01:49:00</td>\n",
       "      <td>NaN</td>\n",
       "      <td>NaN</td>\n",
       "      <td>NaN</td>\n",
       "      <td>16</td>\n",
       "      <td>26</td>\n",
       "      <td>NaN</td>\n",
       "      <td>75.0</td>\n",
       "      <td>NaN</td>\n",
       "      <td>40</td>\n",
       "      <td>75</td>\n",
       "    </tr>\n",
       "    <tr>\n",
       "      <th>19977</th>\n",
       "      <td>2021010315</td>\n",
       "      <td>4166</td>\n",
       "      <td>T.Vizcaino extra point is GOOD, Center-C.Holba...</td>\n",
       "      <td>4</td>\n",
       "      <td>0</td>\n",
       "      <td>0</td>\n",
       "      <td>SF</td>\n",
       "      <td>Extra Point</td>\n",
       "      <td>Kick Attempt Good</td>\n",
       "      <td>47590.0</td>\n",
       "      <td>NaN</td>\n",
       "      <td>NaN</td>\n",
       "      <td>SEA</td>\n",
       "      <td>15</td>\n",
       "      <td>00:23:00</td>\n",
       "      <td>NaN</td>\n",
       "      <td>NaN</td>\n",
       "      <td>NaN</td>\n",
       "      <td>22</td>\n",
       "      <td>26</td>\n",
       "      <td>NaN</td>\n",
       "      <td>NaN</td>\n",
       "      <td>NaN</td>\n",
       "      <td>0</td>\n",
       "      <td>95</td>\n",
       "    </tr>\n",
       "    <tr>\n",
       "      <th>19978</th>\n",
       "      <td>2021010315</td>\n",
       "      <td>4182</td>\n",
       "      <td>M.Wishnowsky kicks onside 9 yards from SF 35 t...</td>\n",
       "      <td>4</td>\n",
       "      <td>0</td>\n",
       "      <td>0</td>\n",
       "      <td>SF</td>\n",
       "      <td>Kickoff</td>\n",
       "      <td>Return</td>\n",
       "      <td>47893.0</td>\n",
       "      <td>NaN</td>\n",
       "      <td>NaN</td>\n",
       "      <td>SF</td>\n",
       "      <td>35</td>\n",
       "      <td>00:23:00</td>\n",
       "      <td>NaN</td>\n",
       "      <td>NaN</td>\n",
       "      <td>NaN</td>\n",
       "      <td>23</td>\n",
       "      <td>26</td>\n",
       "      <td>NaN</td>\n",
       "      <td>9.0</td>\n",
       "      <td>0.0</td>\n",
       "      <td>9</td>\n",
       "      <td>45</td>\n",
       "    </tr>\n",
       "  </tbody>\n",
       "</table>\n",
       "<p>19979 rows × 25 columns</p>\n",
       "</div>"
      ],
      "text/plain": [
       "           gameId  playId                                    playDescription  \\\n",
       "0      2018090600      37  J.Elliott kicks 65 yards from PHI 35 to end zo...   \n",
       "1      2018090600     366  (9:20) C.Johnston punts 56 yards to ATL 36, Ce...   \n",
       "2      2018090600     658  (5:03) M.Bryant 21 yard field goal is GOOD, Ce...   \n",
       "3      2018090600     677  M.Bosher kicks 64 yards from ATL 35 to PHI 1. ...   \n",
       "4      2018090600     872  (:33) C.Johnston punts 65 yards to end zone, C...   \n",
       "...           ...     ...                                                ...   \n",
       "19974  2021010315    3683  J.Myers kicks 65 yards from SEA 35 to end zone...   \n",
       "19975  2021010315    3870  J.Myers extra point is GOOD, Center-T.Ott, Hol...   \n",
       "19976  2021010315    3886  J.Myers kicks 65 yards from SEA 35 to end zone...   \n",
       "19977  2021010315    4166  T.Vizcaino extra point is GOOD, Center-C.Holba...   \n",
       "19978  2021010315    4182  M.Wishnowsky kicks onside 9 yards from SF 35 t...   \n",
       "\n",
       "       quarter  down  yardsToGo possessionTeam specialTeamsPlayType  \\\n",
       "0            1     0          0            PHI              Kickoff   \n",
       "1            1     4          4            PHI                 Punt   \n",
       "2            1     4          3            ATL           Field Goal   \n",
       "3            1     0          0            ATL              Kickoff   \n",
       "4            1     4         18            PHI                 Punt   \n",
       "...        ...   ...        ...            ...                  ...   \n",
       "19974        4     0          0            SEA              Kickoff   \n",
       "19975        4     0          0            SEA          Extra Point   \n",
       "19976        4     0          0            SEA              Kickoff   \n",
       "19977        4     0          0             SF          Extra Point   \n",
       "19978        4     0          0             SF              Kickoff   \n",
       "\n",
       "      specialTeamsResult  kickerId returnerId  kickBlockerId yardlineSide  \\\n",
       "0              Touchback   44966.0        NaN            NaN          PHI   \n",
       "1                 Return   45603.0      42450            NaN          PHI   \n",
       "2      Kick Attempt Good   27091.0        NaN            NaN          PHI   \n",
       "3                 Return   37267.0      44979            NaN          ATL   \n",
       "4              Touchback   45603.0        NaN            NaN          PHI   \n",
       "...                  ...       ...        ...            ...          ...   \n",
       "19974          Touchback   41175.0        NaN            NaN          SEA   \n",
       "19975  Kick Attempt Good   41175.0        NaN            NaN           SF   \n",
       "19976          Touchback   41175.0        NaN            NaN          SEA   \n",
       "19977  Kick Attempt Good   47590.0        NaN            NaN          SEA   \n",
       "19978             Return   47893.0        NaN            NaN           SF   \n",
       "\n",
       "       yardlineNumber gameClock penaltyCodes penaltyJerseyNumbers  \\\n",
       "0                  35  15:00:00          NaN                  NaN   \n",
       "1                   8  09:20:00         UNSd               PHI 18   \n",
       "2                   3  05:03:00          NaN                  NaN   \n",
       "3                  35  05:01:00          NaN                  NaN   \n",
       "4                  35  00:33:00          NaN                  NaN   \n",
       "...               ...       ...          ...                  ...   \n",
       "19974              35  02:20:00          NaN                  NaN   \n",
       "19975              15  01:49:00          NaN                  NaN   \n",
       "19976              35  01:49:00          NaN                  NaN   \n",
       "19977              15  00:23:00          NaN                  NaN   \n",
       "19978              35  00:23:00          NaN                  NaN   \n",
       "\n",
       "       penaltyYards  preSnapHomeScore  preSnapVisitorScore passResult  \\\n",
       "0               NaN                 0                    0        NaN   \n",
       "1             -15.0                 0                    0        NaN   \n",
       "2               NaN                 0                    0        NaN   \n",
       "3               NaN                 0                    3        NaN   \n",
       "4               NaN                 0                    3        NaN   \n",
       "...             ...               ...                  ...        ...   \n",
       "19974           NaN                16                   19        NaN   \n",
       "19975           NaN                16                   25        NaN   \n",
       "19976           NaN                16                   26        NaN   \n",
       "19977           NaN                22                   26        NaN   \n",
       "19978           NaN                23                   26        NaN   \n",
       "\n",
       "       kickLength  kickReturnYardage  playResult  absoluteYardlineNumber  \n",
       "0            66.0                NaN          40                      45  \n",
       "1            56.0                5.0          36                      18  \n",
       "2            21.0                NaN           0                      13  \n",
       "3            64.0               30.0          34                      75  \n",
       "4            65.0                NaN          45                      45  \n",
       "...           ...                ...         ...                     ...  \n",
       "19974        75.0                NaN          40                      75  \n",
       "19975         NaN                NaN           0                      25  \n",
       "19976        75.0                NaN          40                      75  \n",
       "19977         NaN                NaN           0                      95  \n",
       "19978         9.0                0.0           9                      45  \n",
       "\n",
       "[19979 rows x 25 columns]"
      ]
     },
     "execution_count": 11,
     "metadata": {},
     "output_type": "execute_result"
    }
   ],
   "source": [
    "play = pd.read_csv(\"../input/nfl-big-data-bowl-2022/plays.csv\")\n",
    "play"
   ]
  },
  {
   "cell_type": "code",
   "execution_count": 12,
   "id": "8ecdad89",
   "metadata": {
    "execution": {
     "iopub.execute_input": "2021-09-24T12:02:53.688465Z",
     "iopub.status.busy": "2021-09-24T12:02:53.687451Z",
     "iopub.status.idle": "2021-09-24T12:02:53.713990Z",
     "shell.execute_reply": "2021-09-24T12:02:53.713350Z",
     "shell.execute_reply.started": "2021-09-24T11:41:09.490636Z"
    },
    "papermill": {
     "duration": 0.061452,
     "end_time": "2021-09-24T12:02:53.714125",
     "exception": false,
     "start_time": "2021-09-24T12:02:53.652673",
     "status": "completed"
    },
    "tags": []
   },
   "outputs": [
    {
     "name": "stdout",
     "output_type": "stream",
     "text": [
      "gameId                        0\n",
      "playId                        0\n",
      "playDescription               0\n",
      "quarter                       0\n",
      "down                          0\n",
      "yardsToGo                     0\n",
      "possessionTeam                0\n",
      "specialTeamsPlayType          0\n",
      "specialTeamsResult            0\n",
      "kickerId                    101\n",
      "returnerId                13041\n",
      "kickBlockerId             19879\n",
      "yardlineSide                166\n",
      "yardlineNumber                0\n",
      "gameClock                     0\n",
      "penaltyCodes              18877\n",
      "penaltyJerseyNumbers      18877\n",
      "penaltyYards              18877\n",
      "preSnapHomeScore              0\n",
      "preSnapVisitorScore           0\n",
      "passResult                19934\n",
      "kickLength                 3652\n",
      "kickReturnYardage         14655\n",
      "playResult                    0\n",
      "absoluteYardlineNumber        0\n",
      "dtype: int64\n"
     ]
    }
   ],
   "source": [
    "print(play.isnull().sum())"
   ]
  },
  {
   "cell_type": "code",
   "execution_count": 13,
   "id": "784c5511",
   "metadata": {
    "execution": {
     "iopub.execute_input": "2021-09-24T12:02:53.801112Z",
     "iopub.status.busy": "2021-09-24T12:02:53.782218Z",
     "iopub.status.idle": "2021-09-24T12:02:53.815881Z",
     "shell.execute_reply": "2021-09-24T12:02:53.814434Z",
     "shell.execute_reply.started": "2021-09-24T11:41:37.371205Z"
    },
    "papermill": {
     "duration": 0.070304,
     "end_time": "2021-09-24T12:02:53.816093",
     "exception": false,
     "start_time": "2021-09-24T12:02:53.745789",
     "status": "completed"
    },
    "tags": []
   },
   "outputs": [
    {
     "name": "stdout",
     "output_type": "stream",
     "text": [
      "<class 'pandas.core.frame.DataFrame'>\n",
      "RangeIndex: 19979 entries, 0 to 19978\n",
      "Data columns (total 25 columns):\n",
      " #   Column                  Non-Null Count  Dtype  \n",
      "---  ------                  --------------  -----  \n",
      " 0   gameId                  19979 non-null  int64  \n",
      " 1   playId                  19979 non-null  int64  \n",
      " 2   playDescription         19979 non-null  object \n",
      " 3   quarter                 19979 non-null  int64  \n",
      " 4   down                    19979 non-null  int64  \n",
      " 5   yardsToGo               19979 non-null  int64  \n",
      " 6   possessionTeam          19979 non-null  object \n",
      " 7   specialTeamsPlayType    19979 non-null  object \n",
      " 8   specialTeamsResult      19979 non-null  object \n",
      " 9   kickerId                19878 non-null  float64\n",
      " 10  returnerId              6938 non-null   object \n",
      " 11  kickBlockerId           100 non-null    float64\n",
      " 12  yardlineSide            19813 non-null  object \n",
      " 13  yardlineNumber          19979 non-null  int64  \n",
      " 14  gameClock               19979 non-null  object \n",
      " 15  penaltyCodes            1102 non-null   object \n",
      " 16  penaltyJerseyNumbers    1102 non-null   object \n",
      " 17  penaltyYards            1102 non-null   float64\n",
      " 18  preSnapHomeScore        19979 non-null  int64  \n",
      " 19  preSnapVisitorScore     19979 non-null  int64  \n",
      " 20  passResult              45 non-null     object \n",
      " 21  kickLength              16327 non-null  float64\n",
      " 22  kickReturnYardage       5324 non-null   float64\n",
      " 23  playResult              19979 non-null  int64  \n",
      " 24  absoluteYardlineNumber  19979 non-null  int64  \n",
      "dtypes: float64(5), int64(10), object(10)\n",
      "memory usage: 3.8+ MB\n"
     ]
    }
   ],
   "source": [
    "play.info()"
   ]
  },
  {
   "cell_type": "code",
   "execution_count": 14,
   "id": "c62486b0",
   "metadata": {
    "execution": {
     "iopub.execute_input": "2021-09-24T12:02:53.894140Z",
     "iopub.status.busy": "2021-09-24T12:02:53.893178Z",
     "iopub.status.idle": "2021-09-24T12:02:53.956831Z",
     "shell.execute_reply": "2021-09-24T12:02:53.956253Z",
     "shell.execute_reply.started": "2021-09-24T11:48:57.095196Z"
    },
    "papermill": {
     "duration": 0.107484,
     "end_time": "2021-09-24T12:02:53.956989",
     "exception": false,
     "start_time": "2021-09-24T12:02:53.849505",
     "status": "completed"
    },
    "tags": []
   },
   "outputs": [
    {
     "data": {
      "text/html": [
       "<div>                            <div id=\"c5c6587b-170c-48f0-b474-4082190fa659\" class=\"plotly-graph-div\" style=\"height:500px; width:800px;\"></div>            <script type=\"text/javascript\">                require([\"plotly\"], function(Plotly) {                    window.PLOTLYENV=window.PLOTLYENV || {};                                    if (document.getElementById(\"c5c6587b-170c-48f0-b474-4082190fa659\")) {                    Plotly.newPlot(                        \"c5c6587b-170c-48f0-b474-4082190fa659\",                        [{\"domain\":{\"x\":[0.0,1.0],\"y\":[0.0,1.0]},\"hovertemplate\":\"quarter=%{label}<br>plays=%{value}<extra></extra>\",\"labels\":[5,4,3,1,2],\"legendgroup\":\"\",\"name\":\"\",\"showlegend\":true,\"type\":\"pie\",\"values\":[102,4711,4724,4781,5661]}],                        {\"height\":500,\"legend\":{\"tracegroupgap\":0},\"template\":{\"data\":{\"bar\":[{\"error_x\":{\"color\":\"#2a3f5f\"},\"error_y\":{\"color\":\"#2a3f5f\"},\"marker\":{\"line\":{\"color\":\"#E5ECF6\",\"width\":0.5},\"pattern\":{\"fillmode\":\"overlay\",\"size\":10,\"solidity\":0.2}},\"type\":\"bar\"}],\"barpolar\":[{\"marker\":{\"line\":{\"color\":\"#E5ECF6\",\"width\":0.5},\"pattern\":{\"fillmode\":\"overlay\",\"size\":10,\"solidity\":0.2}},\"type\":\"barpolar\"}],\"carpet\":[{\"aaxis\":{\"endlinecolor\":\"#2a3f5f\",\"gridcolor\":\"white\",\"linecolor\":\"white\",\"minorgridcolor\":\"white\",\"startlinecolor\":\"#2a3f5f\"},\"baxis\":{\"endlinecolor\":\"#2a3f5f\",\"gridcolor\":\"white\",\"linecolor\":\"white\",\"minorgridcolor\":\"white\",\"startlinecolor\":\"#2a3f5f\"},\"type\":\"carpet\"}],\"choropleth\":[{\"colorbar\":{\"outlinewidth\":0,\"ticks\":\"\"},\"type\":\"choropleth\"}],\"contour\":[{\"colorbar\":{\"outlinewidth\":0,\"ticks\":\"\"},\"colorscale\":[[0.0,\"#0d0887\"],[0.1111111111111111,\"#46039f\"],[0.2222222222222222,\"#7201a8\"],[0.3333333333333333,\"#9c179e\"],[0.4444444444444444,\"#bd3786\"],[0.5555555555555556,\"#d8576b\"],[0.6666666666666666,\"#ed7953\"],[0.7777777777777778,\"#fb9f3a\"],[0.8888888888888888,\"#fdca26\"],[1.0,\"#f0f921\"]],\"type\":\"contour\"}],\"contourcarpet\":[{\"colorbar\":{\"outlinewidth\":0,\"ticks\":\"\"},\"type\":\"contourcarpet\"}],\"heatmap\":[{\"colorbar\":{\"outlinewidth\":0,\"ticks\":\"\"},\"colorscale\":[[0.0,\"#0d0887\"],[0.1111111111111111,\"#46039f\"],[0.2222222222222222,\"#7201a8\"],[0.3333333333333333,\"#9c179e\"],[0.4444444444444444,\"#bd3786\"],[0.5555555555555556,\"#d8576b\"],[0.6666666666666666,\"#ed7953\"],[0.7777777777777778,\"#fb9f3a\"],[0.8888888888888888,\"#fdca26\"],[1.0,\"#f0f921\"]],\"type\":\"heatmap\"}],\"heatmapgl\":[{\"colorbar\":{\"outlinewidth\":0,\"ticks\":\"\"},\"colorscale\":[[0.0,\"#0d0887\"],[0.1111111111111111,\"#46039f\"],[0.2222222222222222,\"#7201a8\"],[0.3333333333333333,\"#9c179e\"],[0.4444444444444444,\"#bd3786\"],[0.5555555555555556,\"#d8576b\"],[0.6666666666666666,\"#ed7953\"],[0.7777777777777778,\"#fb9f3a\"],[0.8888888888888888,\"#fdca26\"],[1.0,\"#f0f921\"]],\"type\":\"heatmapgl\"}],\"histogram\":[{\"marker\":{\"pattern\":{\"fillmode\":\"overlay\",\"size\":10,\"solidity\":0.2}},\"type\":\"histogram\"}],\"histogram2d\":[{\"colorbar\":{\"outlinewidth\":0,\"ticks\":\"\"},\"colorscale\":[[0.0,\"#0d0887\"],[0.1111111111111111,\"#46039f\"],[0.2222222222222222,\"#7201a8\"],[0.3333333333333333,\"#9c179e\"],[0.4444444444444444,\"#bd3786\"],[0.5555555555555556,\"#d8576b\"],[0.6666666666666666,\"#ed7953\"],[0.7777777777777778,\"#fb9f3a\"],[0.8888888888888888,\"#fdca26\"],[1.0,\"#f0f921\"]],\"type\":\"histogram2d\"}],\"histogram2dcontour\":[{\"colorbar\":{\"outlinewidth\":0,\"ticks\":\"\"},\"colorscale\":[[0.0,\"#0d0887\"],[0.1111111111111111,\"#46039f\"],[0.2222222222222222,\"#7201a8\"],[0.3333333333333333,\"#9c179e\"],[0.4444444444444444,\"#bd3786\"],[0.5555555555555556,\"#d8576b\"],[0.6666666666666666,\"#ed7953\"],[0.7777777777777778,\"#fb9f3a\"],[0.8888888888888888,\"#fdca26\"],[1.0,\"#f0f921\"]],\"type\":\"histogram2dcontour\"}],\"mesh3d\":[{\"colorbar\":{\"outlinewidth\":0,\"ticks\":\"\"},\"type\":\"mesh3d\"}],\"parcoords\":[{\"line\":{\"colorbar\":{\"outlinewidth\":0,\"ticks\":\"\"}},\"type\":\"parcoords\"}],\"pie\":[{\"automargin\":true,\"type\":\"pie\"}],\"scatter\":[{\"marker\":{\"colorbar\":{\"outlinewidth\":0,\"ticks\":\"\"}},\"type\":\"scatter\"}],\"scatter3d\":[{\"line\":{\"colorbar\":{\"outlinewidth\":0,\"ticks\":\"\"}},\"marker\":{\"colorbar\":{\"outlinewidth\":0,\"ticks\":\"\"}},\"type\":\"scatter3d\"}],\"scattercarpet\":[{\"marker\":{\"colorbar\":{\"outlinewidth\":0,\"ticks\":\"\"}},\"type\":\"scattercarpet\"}],\"scattergeo\":[{\"marker\":{\"colorbar\":{\"outlinewidth\":0,\"ticks\":\"\"}},\"type\":\"scattergeo\"}],\"scattergl\":[{\"marker\":{\"colorbar\":{\"outlinewidth\":0,\"ticks\":\"\"}},\"type\":\"scattergl\"}],\"scattermapbox\":[{\"marker\":{\"colorbar\":{\"outlinewidth\":0,\"ticks\":\"\"}},\"type\":\"scattermapbox\"}],\"scatterpolar\":[{\"marker\":{\"colorbar\":{\"outlinewidth\":0,\"ticks\":\"\"}},\"type\":\"scatterpolar\"}],\"scatterpolargl\":[{\"marker\":{\"colorbar\":{\"outlinewidth\":0,\"ticks\":\"\"}},\"type\":\"scatterpolargl\"}],\"scatterternary\":[{\"marker\":{\"colorbar\":{\"outlinewidth\":0,\"ticks\":\"\"}},\"type\":\"scatterternary\"}],\"surface\":[{\"colorbar\":{\"outlinewidth\":0,\"ticks\":\"\"},\"colorscale\":[[0.0,\"#0d0887\"],[0.1111111111111111,\"#46039f\"],[0.2222222222222222,\"#7201a8\"],[0.3333333333333333,\"#9c179e\"],[0.4444444444444444,\"#bd3786\"],[0.5555555555555556,\"#d8576b\"],[0.6666666666666666,\"#ed7953\"],[0.7777777777777778,\"#fb9f3a\"],[0.8888888888888888,\"#fdca26\"],[1.0,\"#f0f921\"]],\"type\":\"surface\"}],\"table\":[{\"cells\":{\"fill\":{\"color\":\"#EBF0F8\"},\"line\":{\"color\":\"white\"}},\"header\":{\"fill\":{\"color\":\"#C8D4E3\"},\"line\":{\"color\":\"white\"}},\"type\":\"table\"}]},\"layout\":{\"annotationdefaults\":{\"arrowcolor\":\"#2a3f5f\",\"arrowhead\":0,\"arrowwidth\":1},\"autotypenumbers\":\"strict\",\"coloraxis\":{\"colorbar\":{\"outlinewidth\":0,\"ticks\":\"\"}},\"colorscale\":{\"diverging\":[[0,\"#8e0152\"],[0.1,\"#c51b7d\"],[0.2,\"#de77ae\"],[0.3,\"#f1b6da\"],[0.4,\"#fde0ef\"],[0.5,\"#f7f7f7\"],[0.6,\"#e6f5d0\"],[0.7,\"#b8e186\"],[0.8,\"#7fbc41\"],[0.9,\"#4d9221\"],[1,\"#276419\"]],\"sequential\":[[0.0,\"#0d0887\"],[0.1111111111111111,\"#46039f\"],[0.2222222222222222,\"#7201a8\"],[0.3333333333333333,\"#9c179e\"],[0.4444444444444444,\"#bd3786\"],[0.5555555555555556,\"#d8576b\"],[0.6666666666666666,\"#ed7953\"],[0.7777777777777778,\"#fb9f3a\"],[0.8888888888888888,\"#fdca26\"],[1.0,\"#f0f921\"]],\"sequentialminus\":[[0.0,\"#0d0887\"],[0.1111111111111111,\"#46039f\"],[0.2222222222222222,\"#7201a8\"],[0.3333333333333333,\"#9c179e\"],[0.4444444444444444,\"#bd3786\"],[0.5555555555555556,\"#d8576b\"],[0.6666666666666666,\"#ed7953\"],[0.7777777777777778,\"#fb9f3a\"],[0.8888888888888888,\"#fdca26\"],[1.0,\"#f0f921\"]]},\"colorway\":[\"#636efa\",\"#EF553B\",\"#00cc96\",\"#ab63fa\",\"#FFA15A\",\"#19d3f3\",\"#FF6692\",\"#B6E880\",\"#FF97FF\",\"#FECB52\"],\"font\":{\"color\":\"#2a3f5f\"},\"geo\":{\"bgcolor\":\"white\",\"lakecolor\":\"white\",\"landcolor\":\"#E5ECF6\",\"showlakes\":true,\"showland\":true,\"subunitcolor\":\"white\"},\"hoverlabel\":{\"align\":\"left\"},\"hovermode\":\"closest\",\"mapbox\":{\"style\":\"light\"},\"paper_bgcolor\":\"white\",\"plot_bgcolor\":\"#E5ECF6\",\"polar\":{\"angularaxis\":{\"gridcolor\":\"white\",\"linecolor\":\"white\",\"ticks\":\"\"},\"bgcolor\":\"#E5ECF6\",\"radialaxis\":{\"gridcolor\":\"white\",\"linecolor\":\"white\",\"ticks\":\"\"}},\"scene\":{\"xaxis\":{\"backgroundcolor\":\"#E5ECF6\",\"gridcolor\":\"white\",\"gridwidth\":2,\"linecolor\":\"white\",\"showbackground\":true,\"ticks\":\"\",\"zerolinecolor\":\"white\"},\"yaxis\":{\"backgroundcolor\":\"#E5ECF6\",\"gridcolor\":\"white\",\"gridwidth\":2,\"linecolor\":\"white\",\"showbackground\":true,\"ticks\":\"\",\"zerolinecolor\":\"white\"},\"zaxis\":{\"backgroundcolor\":\"#E5ECF6\",\"gridcolor\":\"white\",\"gridwidth\":2,\"linecolor\":\"white\",\"showbackground\":true,\"ticks\":\"\",\"zerolinecolor\":\"white\"}},\"shapedefaults\":{\"line\":{\"color\":\"#2a3f5f\"}},\"ternary\":{\"aaxis\":{\"gridcolor\":\"white\",\"linecolor\":\"white\",\"ticks\":\"\"},\"baxis\":{\"gridcolor\":\"white\",\"linecolor\":\"white\",\"ticks\":\"\"},\"bgcolor\":\"#E5ECF6\",\"caxis\":{\"gridcolor\":\"white\",\"linecolor\":\"white\",\"ticks\":\"\"}},\"title\":{\"x\":0.05},\"xaxis\":{\"automargin\":true,\"gridcolor\":\"white\",\"linecolor\":\"white\",\"ticks\":\"\",\"title\":{\"standoff\":15},\"zerolinecolor\":\"white\",\"zerolinewidth\":2},\"yaxis\":{\"automargin\":true,\"gridcolor\":\"white\",\"linecolor\":\"white\",\"ticks\":\"\",\"title\":{\"standoff\":15},\"zerolinecolor\":\"white\",\"zerolinewidth\":2}}},\"title\":{\"text\":\"Number of plays of every quarter\"},\"width\":800},                        {\"responsive\": true}                    ).then(function(){\n",
       "                            \n",
       "var gd = document.getElementById('c5c6587b-170c-48f0-b474-4082190fa659');\n",
       "var x = new MutationObserver(function (mutations, observer) {{\n",
       "        var display = window.getComputedStyle(gd).display;\n",
       "        if (!display || display === 'none') {{\n",
       "            console.log([gd, 'removed!']);\n",
       "            Plotly.purge(gd);\n",
       "            observer.disconnect();\n",
       "        }}\n",
       "}});\n",
       "\n",
       "// Listen for the removal of the full notebook cells\n",
       "var notebookContainer = gd.closest('#notebook-container');\n",
       "if (notebookContainer) {{\n",
       "    x.observe(notebookContainer, {childList: true});\n",
       "}}\n",
       "\n",
       "// Listen for the clearing of the current output cell\n",
       "var outputEl = gd.closest('.output');\n",
       "if (outputEl) {{\n",
       "    x.observe(outputEl, {childList: true});\n",
       "}}\n",
       "\n",
       "                        })                };                });            </script>        </div>"
      ]
     },
     "metadata": {},
     "output_type": "display_data"
    }
   ],
   "source": [
    "check = play['quarter'].value_counts().reset_index()\n",
    "\n",
    "check.columns = [\n",
    "    'quarter', \n",
    "    'plays'\n",
    "]\n",
    "\n",
    "check = check.sort_values('plays')\n",
    "\n",
    "fig = px.pie(\n",
    "    check, \n",
    "    names='quarter', \n",
    "    values=\"plays\",  \n",
    "    title='Number of plays of every quarter',\n",
    "    height=500,\n",
    "    width=800\n",
    ")\n",
    "\n",
    "fig.show()"
   ]
  },
  {
   "cell_type": "markdown",
   "id": "49e99dfe",
   "metadata": {
    "papermill": {
     "duration": 0.032536,
     "end_time": "2021-09-24T12:02:54.022201",
     "exception": false,
     "start_time": "2021-09-24T12:02:53.989665",
     "status": "completed"
    },
    "tags": []
   },
   "source": [
    "### Corelation between features"
   ]
  },
  {
   "cell_type": "code",
   "execution_count": 15,
   "id": "f9335190",
   "metadata": {
    "execution": {
     "iopub.execute_input": "2021-09-24T12:02:54.093697Z",
     "iopub.status.busy": "2021-09-24T12:02:54.092709Z",
     "iopub.status.idle": "2021-09-24T12:02:54.565753Z",
     "shell.execute_reply": "2021-09-24T12:02:54.566263Z",
     "shell.execute_reply.started": "2021-09-24T11:51:45.040930Z"
    },
    "papermill": {
     "duration": 0.511542,
     "end_time": "2021-09-24T12:02:54.566440",
     "exception": false,
     "start_time": "2021-09-24T12:02:54.054898",
     "status": "completed"
    },
    "tags": []
   },
   "outputs": [
    {
     "data": {
      "text/plain": [
       "<AxesSubplot:>"
      ]
     },
     "execution_count": 15,
     "metadata": {},
     "output_type": "execute_result"
    },
    {
     "data": {
      "image/png": "[encoded data removed]",
      "text/plain": [
       "<Figure size 864x576 with 2 Axes>"
      ]
     },
     "metadata": {},
     "output_type": "display_data"
    }
   ],
   "source": [
    "# relationship between features\n",
    "corr = play.corr()\n",
    "fig, ax = plt.subplots(figsize=(12,8))\n",
    "sns.heatmap(corr)"
   ]
  },
  {
   "cell_type": "markdown",
   "id": "95146c27",
   "metadata": {
    "papermill": {
     "duration": 0.034665,
     "end_time": "2021-09-24T12:02:54.636736",
     "exception": false,
     "start_time": "2021-09-24T12:02:54.602071",
     "status": "completed"
    },
    "tags": []
   },
   "source": [
    "### Plotting missing values\n",
    "* These have missing values one have to handle.\n",
    "\n"
   ]
  },
  {
   "cell_type": "code",
   "execution_count": 16,
   "id": "c84bed10",
   "metadata": {
    "execution": {
     "iopub.execute_input": "2021-09-24T12:02:54.729005Z",
     "iopub.status.busy": "2021-09-24T12:02:54.717679Z",
     "iopub.status.idle": "2021-09-24T12:02:54.960757Z",
     "shell.execute_reply": "2021-09-24T12:02:54.961213Z",
     "shell.execute_reply.started": "2021-09-24T11:53:09.786662Z"
    },
    "papermill": {
     "duration": 0.289734,
     "end_time": "2021-09-24T12:02:54.961382",
     "exception": false,
     "start_time": "2021-09-24T12:02:54.671648",
     "status": "completed"
    },
    "tags": []
   },
   "outputs": [
    {
     "data": {
      "text/plain": [
       "<AxesSubplot:>"
      ]
     },
     "execution_count": 16,
     "metadata": {},
     "output_type": "execute_result"
    },
    {
     "data": {
      "image/png": "[encoded data removed]",
      "text/plain": [
       "<Figure size 576x432 with 1 Axes>"
      ]
     },
     "metadata": {},
     "output_type": "display_data"
    }
   ],
   "source": [
    "fig, ax = plt.subplots(figsize=(8,6))\n",
    "missing = play.isnull().sum()\n",
    "missing = missing[missing > 0]\n",
    "missing.sort_values(inplace=True)\n",
    "missing.plot.bar(ax=ax)"
   ]
  },
  {
   "cell_type": "markdown",
   "id": "34f86281",
   "metadata": {
    "papermill": {
     "duration": 0.036429,
     "end_time": "2021-09-24T12:02:55.034341",
     "exception": false,
     "start_time": "2021-09-24T12:02:54.997912",
     "status": "completed"
    },
    "tags": []
   },
   "source": [
    "### Heat map for missing values\n",
    "* Here we can see in this heat map how many values are missing."
   ]
  },
  {
   "cell_type": "code",
   "execution_count": 17,
   "id": "c4b409d5",
   "metadata": {
    "execution": {
     "iopub.execute_input": "2021-09-24T12:02:55.284690Z",
     "iopub.status.busy": "2021-09-24T12:02:55.267428Z",
     "iopub.status.idle": "2021-09-24T12:02:56.759341Z",
     "shell.execute_reply": "2021-09-24T12:02:56.759844Z",
     "shell.execute_reply.started": "2021-09-24T11:53:41.011053Z"
    },
    "papermill": {
     "duration": 1.688959,
     "end_time": "2021-09-24T12:02:56.760005",
     "exception": false,
     "start_time": "2021-09-24T12:02:55.071046",
     "status": "completed"
    },
    "tags": []
   },
   "outputs": [
    {
     "data": {
      "text/plain": [
       "<AxesSubplot:>"
      ]
     },
     "execution_count": 17,
     "metadata": {},
     "output_type": "execute_result"
    },
    {
     "data": {
      "image/png": "[encoded data removed]",
      "text/plain": [
       "<Figure size 720x576 with 2 Axes>"
      ]
     },
     "metadata": {},
     "output_type": "display_data"
    }
   ],
   "source": [
    "fig, ax = plt.subplots(figsize=(10,8))\n",
    "sns.heatmap(play.isnull(), ax=ax)"
   ]
  },
  {
   "cell_type": "markdown",
   "id": "40aabf9e",
   "metadata": {
    "papermill": {
     "duration": 0.040135,
     "end_time": "2021-09-24T12:02:56.839256",
     "exception": false,
     "start_time": "2021-09-24T12:02:56.799121",
     "status": "completed"
    },
    "tags": []
   },
   "source": [
    "### Play result distribution "
   ]
  },
  {
   "cell_type": "code",
   "execution_count": 18,
   "id": "88bafdec",
   "metadata": {
    "execution": {
     "iopub.execute_input": "2021-09-24T12:02:56.922796Z",
     "iopub.status.busy": "2021-09-24T12:02:56.922130Z",
     "iopub.status.idle": "2021-09-24T12:02:57.110334Z",
     "shell.execute_reply": "2021-09-24T12:02:57.110910Z",
     "shell.execute_reply.started": "2021-09-24T12:00:57.669912Z"
    },
    "papermill": {
     "duration": 0.231843,
     "end_time": "2021-09-24T12:02:57.111086",
     "exception": false,
     "start_time": "2021-09-24T12:02:56.879243",
     "status": "completed"
    },
    "tags": []
   },
   "outputs": [
    {
     "data": {
      "image/png": "[encoded data removed]",
      "text/plain": [
       "<Figure size 864x576 with 1 Axes>"
      ]
     },
     "metadata": {},
     "output_type": "display_data"
    }
   ],
   "source": [
    "#To see how Play result distribution  is distributed\n",
    "play[\"playResult\"].hist(figsize=(12,8),bins=15)\n",
    "plt.show()"
   ]
  },
  {
   "cell_type": "code",
   "execution_count": 19,
   "id": "1010c6da",
   "metadata": {
    "execution": {
     "iopub.execute_input": "2021-09-24T12:02:57.197031Z",
     "iopub.status.busy": "2021-09-24T12:02:57.196350Z",
     "iopub.status.idle": "2021-09-24T12:02:57.368269Z",
     "shell.execute_reply": "2021-09-24T12:02:57.368811Z",
     "shell.execute_reply.started": "2021-09-24T12:00:40.639565Z"
    },
    "papermill": {
     "duration": 0.217249,
     "end_time": "2021-09-24T12:02:57.368976",
     "exception": false,
     "start_time": "2021-09-24T12:02:57.151727",
     "status": "completed"
    },
    "tags": []
   },
   "outputs": [
    {
     "data": {
      "image/png": "[encoded data removed]",
      "text/plain": [
       "<Figure size 864x576 with 1 Axes>"
      ]
     },
     "metadata": {},
     "output_type": "display_data"
    }
   ],
   "source": [
    "#preSnapHomeScore\n",
    "#To see how preSnapHomeScore is distributed\n",
    "play[\"preSnapHomeScore\"].hist(figsize=(12,8),bins=15)\n",
    "plt.show()"
   ]
  },
  {
   "cell_type": "code",
   "execution_count": 20,
   "id": "2e58608e",
   "metadata": {
    "execution": {
     "iopub.execute_input": "2021-09-24T12:02:57.455920Z",
     "iopub.status.busy": "2021-09-24T12:02:57.455293Z",
     "iopub.status.idle": "2021-09-24T12:02:57.629738Z",
     "shell.execute_reply": "2021-09-24T12:02:57.630320Z",
     "shell.execute_reply.started": "2021-09-24T12:01:46.285250Z"
    },
    "papermill": {
     "duration": 0.219064,
     "end_time": "2021-09-24T12:02:57.630482",
     "exception": false,
     "start_time": "2021-09-24T12:02:57.411418",
     "status": "completed"
    },
    "tags": []
   },
   "outputs": [
    {
     "data": {
      "image/png": "[encoded data removed]",
      "text/plain": [
       "<Figure size 864x576 with 1 Axes>"
      ]
     },
     "metadata": {},
     "output_type": "display_data"
    }
   ],
   "source": [
    "#To see how pre Snap Visitor Score is distributed\n",
    "play[\"preSnapVisitorScore\"].hist(figsize=(12,8),bins=15)\n",
    "plt.show()"
   ]
  }
 ],
 "metadata": {
  "kernelspec": {
   "display_name": "Python 3",
   "language": "python",
   "name": "python3"
  },
  "language_info": {
   "codemirror_mode": {
    "name": "ipython",
    "version": 3
   },
   "file_extension": ".py",
   "mimetype": "text/x-python",
   "name": "python",
   "nbconvert_exporter": "python",
   "pygments_lexer": "ipython3",
   "version": "3.7.10"
  },
  "papermill": {
   "default_parameters": {},
   "duration": 18.812441,
   "end_time": "2021-09-24T12:02:58.825425",
   "environment_variables": {},
   "exception": null,
   "input_path": "__notebook__.ipynb",
   "output_path": "__notebook__.ipynb",
   "parameters": {},
   "start_time": "2021-09-24T12:02:40.012984",
   "version": "2.3.3"
  }
 },
 "nbformat": 4,
 "nbformat_minor": 5
}
